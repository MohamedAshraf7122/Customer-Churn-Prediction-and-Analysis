{
 "cells": [
  {
   "cell_type": "code",
   "execution_count": 75,
   "id": "25147aa6",
   "metadata": {},
   "outputs": [
    {
     "name": "stdout",
     "output_type": "stream",
     "text": [
      "Requirement already satisfied: plotly in /usr/local/python/3.12.1/lib/python3.12/site-packages (6.3.0)\n",
      "Requirement already satisfied: narwhals>=1.15.1 in /home/codespace/.local/lib/python3.12/site-packages (from plotly) (1.46.0)\n",
      "Requirement already satisfied: packaging in /home/codespace/.local/lib/python3.12/site-packages (from plotly) (25.0)\n",
      "Note: you may need to restart the kernel to use updated packages.\n",
      "Requirement already satisfied: openpyxl in /usr/local/python/3.12.1/lib/python3.12/site-packages (3.1.5)\n",
      "Requirement already satisfied: et-xmlfile in /usr/local/python/3.12.1/lib/python3.12/site-packages (from openpyxl) (2.0.0)\n",
      "Note: you may need to restart the kernel to use updated packages.\n",
      "Requirement already satisfied: ydata-profiling in /usr/local/python/3.12.1/lib/python3.12/site-packages (4.17.0)\n",
      "Requirement already satisfied: scipy<1.16,>=1.4.1 in /usr/local/python/3.12.1/lib/python3.12/site-packages (from ydata-profiling) (1.15.3)\n",
      "Requirement already satisfied: pandas!=1.4.0,<3.0,>1.1 in /home/codespace/.local/lib/python3.12/site-packages (from ydata-profiling) (2.3.1)\n",
      "Requirement already satisfied: matplotlib<=3.10,>=3.5 in /usr/local/python/3.12.1/lib/python3.12/site-packages (from ydata-profiling) (3.10.0)\n",
      "Requirement already satisfied: pydantic>=2 in /usr/local/python/3.12.1/lib/python3.12/site-packages (from ydata-profiling) (2.11.9)\n",
      "Requirement already satisfied: PyYAML<6.1,>=5.0.0 in /home/codespace/.local/lib/python3.12/site-packages (from ydata-profiling) (6.0.2)\n",
      "Requirement already satisfied: jinja2<3.2,>=2.11.1 in /home/codespace/.local/lib/python3.12/site-packages (from ydata-profiling) (3.1.6)\n",
      "Requirement already satisfied: visions<0.8.2,>=0.7.5 in /usr/local/python/3.12.1/lib/python3.12/site-packages (from visions[type_image_path]<0.8.2,>=0.7.5->ydata-profiling) (0.8.1)\n",
      "Requirement already satisfied: numpy<2.2,>=1.16.0 in /usr/local/python/3.12.1/lib/python3.12/site-packages (from ydata-profiling) (2.1.3)\n",
      "Requirement already satisfied: minify-html>=0.15.0 in /usr/local/python/3.12.1/lib/python3.12/site-packages (from ydata-profiling) (0.16.4)\n",
      "Requirement already satisfied: filetype>=1.0.0 in /usr/local/python/3.12.1/lib/python3.12/site-packages (from ydata-profiling) (1.2.0)\n",
      "Requirement already satisfied: phik<0.13,>=0.11.1 in /usr/local/python/3.12.1/lib/python3.12/site-packages (from ydata-profiling) (0.12.5)\n",
      "Requirement already satisfied: requests<3,>=2.24.0 in /home/codespace/.local/lib/python3.12/site-packages (from ydata-profiling) (2.32.4)\n",
      "Requirement already satisfied: tqdm<5,>=4.48.2 in /usr/local/python/3.12.1/lib/python3.12/site-packages (from ydata-profiling) (4.67.1)\n",
      "Requirement already satisfied: seaborn<0.14,>=0.10.1 in /home/codespace/.local/lib/python3.12/site-packages (from ydata-profiling) (0.13.2)\n",
      "Requirement already satisfied: multimethod<2,>=1.4 in /usr/local/python/3.12.1/lib/python3.12/site-packages (from ydata-profiling) (1.12)\n",
      "Requirement already satisfied: statsmodels<1,>=0.13.2 in /usr/local/python/3.12.1/lib/python3.12/site-packages (from ydata-profiling) (0.14.5)\n",
      "Requirement already satisfied: typeguard<5,>=3 in /usr/local/python/3.12.1/lib/python3.12/site-packages (from ydata-profiling) (4.4.4)\n",
      "Requirement already satisfied: imagehash==4.3.1 in /usr/local/python/3.12.1/lib/python3.12/site-packages (from ydata-profiling) (4.3.1)\n",
      "Requirement already satisfied: wordcloud>=1.9.3 in /usr/local/python/3.12.1/lib/python3.12/site-packages (from ydata-profiling) (1.9.4)\n",
      "Requirement already satisfied: dacite>=1.8 in /usr/local/python/3.12.1/lib/python3.12/site-packages (from ydata-profiling) (1.9.2)\n",
      "Requirement already satisfied: numba<=0.61,>=0.56.0 in /usr/local/python/3.12.1/lib/python3.12/site-packages (from ydata-profiling) (0.61.0)\n",
      "Requirement already satisfied: PyWavelets in /usr/local/python/3.12.1/lib/python3.12/site-packages (from imagehash==4.3.1->ydata-profiling) (1.9.0)\n",
      "Requirement already satisfied: pillow in /home/codespace/.local/lib/python3.12/site-packages (from imagehash==4.3.1->ydata-profiling) (11.3.0)\n",
      "Requirement already satisfied: MarkupSafe>=2.0 in /home/codespace/.local/lib/python3.12/site-packages (from jinja2<3.2,>=2.11.1->ydata-profiling) (3.0.2)\n",
      "Requirement already satisfied: contourpy>=1.0.1 in /home/codespace/.local/lib/python3.12/site-packages (from matplotlib<=3.10,>=3.5->ydata-profiling) (1.3.2)\n",
      "Requirement already satisfied: cycler>=0.10 in /home/codespace/.local/lib/python3.12/site-packages (from matplotlib<=3.10,>=3.5->ydata-profiling) (0.12.1)\n",
      "Requirement already satisfied: fonttools>=4.22.0 in /home/codespace/.local/lib/python3.12/site-packages (from matplotlib<=3.10,>=3.5->ydata-profiling) (4.58.5)\n",
      "Requirement already satisfied: kiwisolver>=1.3.1 in /home/codespace/.local/lib/python3.12/site-packages (from matplotlib<=3.10,>=3.5->ydata-profiling) (1.4.8)\n",
      "Requirement already satisfied: packaging>=20.0 in /home/codespace/.local/lib/python3.12/site-packages (from matplotlib<=3.10,>=3.5->ydata-profiling) (25.0)\n",
      "Requirement already satisfied: pyparsing>=2.3.1 in /home/codespace/.local/lib/python3.12/site-packages (from matplotlib<=3.10,>=3.5->ydata-profiling) (3.2.3)\n",
      "Requirement already satisfied: python-dateutil>=2.7 in /home/codespace/.local/lib/python3.12/site-packages (from matplotlib<=3.10,>=3.5->ydata-profiling) (2.9.0.post0)\n",
      "Requirement already satisfied: llvmlite<0.45,>=0.44.0dev0 in /usr/local/python/3.12.1/lib/python3.12/site-packages (from numba<=0.61,>=0.56.0->ydata-profiling) (0.44.0)\n",
      "Requirement already satisfied: pytz>=2020.1 in /home/codespace/.local/lib/python3.12/site-packages (from pandas!=1.4.0,<3.0,>1.1->ydata-profiling) (2025.2)\n",
      "Requirement already satisfied: tzdata>=2022.7 in /home/codespace/.local/lib/python3.12/site-packages (from pandas!=1.4.0,<3.0,>1.1->ydata-profiling) (2025.2)\n",
      "Requirement already satisfied: joblib>=0.14.1 in /home/codespace/.local/lib/python3.12/site-packages (from phik<0.13,>=0.11.1->ydata-profiling) (1.5.1)\n",
      "Requirement already satisfied: charset_normalizer<4,>=2 in /home/codespace/.local/lib/python3.12/site-packages (from requests<3,>=2.24.0->ydata-profiling) (3.4.2)\n",
      "Requirement already satisfied: idna<4,>=2.5 in /home/codespace/.local/lib/python3.12/site-packages (from requests<3,>=2.24.0->ydata-profiling) (3.10)\n",
      "Requirement already satisfied: urllib3<3,>=1.21.1 in /home/codespace/.local/lib/python3.12/site-packages (from requests<3,>=2.24.0->ydata-profiling) (2.5.0)\n",
      "Requirement already satisfied: certifi>=2017.4.17 in /home/codespace/.local/lib/python3.12/site-packages (from requests<3,>=2.24.0->ydata-profiling) (2025.7.9)\n",
      "Requirement already satisfied: patsy>=0.5.6 in /usr/local/python/3.12.1/lib/python3.12/site-packages (from statsmodels<1,>=0.13.2->ydata-profiling) (1.0.1)\n",
      "Requirement already satisfied: typing_extensions>=4.14.0 in /home/codespace/.local/lib/python3.12/site-packages (from typeguard<5,>=3->ydata-profiling) (4.14.1)\n",
      "Requirement already satisfied: attrs>=19.3.0 in /home/codespace/.local/lib/python3.12/site-packages (from visions<0.8.2,>=0.7.5->visions[type_image_path]<0.8.2,>=0.7.5->ydata-profiling) (25.3.0)\n",
      "Requirement already satisfied: networkx>=2.4 in /home/codespace/.local/lib/python3.12/site-packages (from visions<0.8.2,>=0.7.5->visions[type_image_path]<0.8.2,>=0.7.5->ydata-profiling) (3.3)\n",
      "Requirement already satisfied: puremagic in /usr/local/python/3.12.1/lib/python3.12/site-packages (from visions<0.8.2,>=0.7.5->visions[type_image_path]<0.8.2,>=0.7.5->ydata-profiling) (1.30)\n",
      "Requirement already satisfied: annotated-types>=0.6.0 in /usr/local/python/3.12.1/lib/python3.12/site-packages (from pydantic>=2->ydata-profiling) (0.7.0)\n",
      "Requirement already satisfied: pydantic-core==2.33.2 in /usr/local/python/3.12.1/lib/python3.12/site-packages (from pydantic>=2->ydata-profiling) (2.33.2)\n",
      "Requirement already satisfied: typing-inspection>=0.4.0 in /usr/local/python/3.12.1/lib/python3.12/site-packages (from pydantic>=2->ydata-profiling) (0.4.1)\n",
      "Requirement already satisfied: six>=1.5 in /home/codespace/.local/lib/python3.12/site-packages (from python-dateutil>=2.7->matplotlib<=3.10,>=3.5->ydata-profiling) (1.17.0)\n",
      "Note: you may need to restart the kernel to use updated packages.\n",
      "Requirement already satisfied: ipywidgets in /usr/local/python/3.12.1/lib/python3.12/site-packages (8.1.7)\n",
      "Requirement already satisfied: comm>=0.1.3 in /home/codespace/.local/lib/python3.12/site-packages (from ipywidgets) (0.2.2)\n",
      "Requirement already satisfied: ipython>=6.1.0 in /home/codespace/.local/lib/python3.12/site-packages (from ipywidgets) (9.4.0)\n",
      "Requirement already satisfied: traitlets>=4.3.1 in /home/codespace/.local/lib/python3.12/site-packages (from ipywidgets) (5.14.3)\n",
      "Requirement already satisfied: widgetsnbextension~=4.0.14 in /usr/local/python/3.12.1/lib/python3.12/site-packages (from ipywidgets) (4.0.14)\n",
      "Requirement already satisfied: jupyterlab_widgets~=3.0.15 in /usr/local/python/3.12.1/lib/python3.12/site-packages (from ipywidgets) (3.0.15)\n",
      "Requirement already satisfied: decorator in /home/codespace/.local/lib/python3.12/site-packages (from ipython>=6.1.0->ipywidgets) (5.2.1)\n",
      "Requirement already satisfied: ipython-pygments-lexers in /home/codespace/.local/lib/python3.12/site-packages (from ipython>=6.1.0->ipywidgets) (1.1.1)\n",
      "Requirement already satisfied: jedi>=0.16 in /home/codespace/.local/lib/python3.12/site-packages (from ipython>=6.1.0->ipywidgets) (0.19.2)\n",
      "Requirement already satisfied: matplotlib-inline in /home/codespace/.local/lib/python3.12/site-packages (from ipython>=6.1.0->ipywidgets) (0.1.7)\n",
      "Requirement already satisfied: pexpect>4.3 in /home/codespace/.local/lib/python3.12/site-packages (from ipython>=6.1.0->ipywidgets) (4.9.0)\n",
      "Requirement already satisfied: prompt_toolkit<3.1.0,>=3.0.41 in /home/codespace/.local/lib/python3.12/site-packages (from ipython>=6.1.0->ipywidgets) (3.0.51)\n",
      "Requirement already satisfied: pygments>=2.4.0 in /home/codespace/.local/lib/python3.12/site-packages (from ipython>=6.1.0->ipywidgets) (2.19.2)\n",
      "Requirement already satisfied: stack_data in /home/codespace/.local/lib/python3.12/site-packages (from ipython>=6.1.0->ipywidgets) (0.6.3)\n",
      "Requirement already satisfied: wcwidth in /home/codespace/.local/lib/python3.12/site-packages (from prompt_toolkit<3.1.0,>=3.0.41->ipython>=6.1.0->ipywidgets) (0.2.13)\n",
      "Requirement already satisfied: parso<0.9.0,>=0.8.4 in /home/codespace/.local/lib/python3.12/site-packages (from jedi>=0.16->ipython>=6.1.0->ipywidgets) (0.8.4)\n",
      "Requirement already satisfied: ptyprocess>=0.5 in /home/codespace/.local/lib/python3.12/site-packages (from pexpect>4.3->ipython>=6.1.0->ipywidgets) (0.7.0)\n",
      "Requirement already satisfied: executing>=1.2.0 in /home/codespace/.local/lib/python3.12/site-packages (from stack_data->ipython>=6.1.0->ipywidgets) (2.2.0)\n",
      "Requirement already satisfied: asttokens>=2.1.0 in /home/codespace/.local/lib/python3.12/site-packages (from stack_data->ipython>=6.1.0->ipywidgets) (3.0.0)\n",
      "Requirement already satisfied: pure-eval in /home/codespace/.local/lib/python3.12/site-packages (from stack_data->ipython>=6.1.0->ipywidgets) (0.2.3)\n",
      "Note: you may need to restart the kernel to use updated packages.\n"
     ]
    }
   ],
   "source": [
    "import pandas as pd\n",
    "import numpy as np\n",
    "from scipy import stats\n",
    "import matplotlib.pyplot as plt\n",
    "import seaborn as sns\n",
    "%pip install plotly\n",
    "import plotly.express as px\n",
    "%pip install openpyxl\n",
    "%pip install ydata-profiling\n",
    "%pip install ipywidgets\n",
    "from ydata_profiling import ProfileReport\n",
    "ecomerce_df = pd.read_excel(\"E Commerce Dataset only.xlsx\")"
   ]
  },
  {
   "cell_type": "code",
   "execution_count": 76,
   "id": "5f5dca19",
   "metadata": {},
   "outputs": [
    {
     "data": {
      "text/plain": [
       "(5630, 20)"
      ]
     },
     "execution_count": 76,
     "metadata": {},
     "output_type": "execute_result"
    }
   ],
   "source": [
    "ecomerce_df.shape"
   ]
  },
  {
   "cell_type": "code",
   "execution_count": 77,
   "id": "b86fdc7a",
   "metadata": {},
   "outputs": [
    {
     "data": {
      "text/html": [
       "<div>\n",
       "<style scoped>\n",
       "    .dataframe tbody tr th:only-of-type {\n",
       "        vertical-align: middle;\n",
       "    }\n",
       "\n",
       "    .dataframe tbody tr th {\n",
       "        vertical-align: top;\n",
       "    }\n",
       "\n",
       "    .dataframe thead th {\n",
       "        text-align: right;\n",
       "    }\n",
       "</style>\n",
       "<table border=\"1\" class=\"dataframe\">\n",
       "  <thead>\n",
       "    <tr style=\"text-align: right;\">\n",
       "      <th></th>\n",
       "      <th>CustomerID</th>\n",
       "      <th>Churn</th>\n",
       "      <th>Tenure</th>\n",
       "      <th>PreferredLoginDevice</th>\n",
       "      <th>CityTier</th>\n",
       "      <th>WarehouseToHome</th>\n",
       "      <th>PreferredPaymentMode</th>\n",
       "      <th>Gender</th>\n",
       "      <th>HourSpendOnApp</th>\n",
       "      <th>NumberOfDeviceRegistered</th>\n",
       "      <th>PreferedOrderCat</th>\n",
       "      <th>SatisfactionScore</th>\n",
       "      <th>MaritalStatus</th>\n",
       "      <th>NumberOfAddress</th>\n",
       "      <th>Complain</th>\n",
       "      <th>OrderAmountHikeFromlastYear</th>\n",
       "      <th>CouponUsed</th>\n",
       "      <th>OrderCount</th>\n",
       "      <th>DaySinceLastOrder</th>\n",
       "      <th>CashbackAmount</th>\n",
       "    </tr>\n",
       "  </thead>\n",
       "  <tbody>\n",
       "    <tr>\n",
       "      <th>0</th>\n",
       "      <td>50001</td>\n",
       "      <td>1</td>\n",
       "      <td>4.0</td>\n",
       "      <td>Mobile Phone</td>\n",
       "      <td>3</td>\n",
       "      <td>6.0</td>\n",
       "      <td>Debit Card</td>\n",
       "      <td>Female</td>\n",
       "      <td>3.0</td>\n",
       "      <td>3</td>\n",
       "      <td>Laptop &amp; Accessory</td>\n",
       "      <td>2</td>\n",
       "      <td>Single</td>\n",
       "      <td>9</td>\n",
       "      <td>1</td>\n",
       "      <td>11.0</td>\n",
       "      <td>1.0</td>\n",
       "      <td>1.0</td>\n",
       "      <td>5.0</td>\n",
       "      <td>159.93</td>\n",
       "    </tr>\n",
       "    <tr>\n",
       "      <th>1</th>\n",
       "      <td>50002</td>\n",
       "      <td>1</td>\n",
       "      <td>NaN</td>\n",
       "      <td>Phone</td>\n",
       "      <td>1</td>\n",
       "      <td>8.0</td>\n",
       "      <td>UPI</td>\n",
       "      <td>Male</td>\n",
       "      <td>3.0</td>\n",
       "      <td>4</td>\n",
       "      <td>Mobile</td>\n",
       "      <td>3</td>\n",
       "      <td>Single</td>\n",
       "      <td>7</td>\n",
       "      <td>1</td>\n",
       "      <td>15.0</td>\n",
       "      <td>0.0</td>\n",
       "      <td>1.0</td>\n",
       "      <td>0.0</td>\n",
       "      <td>120.90</td>\n",
       "    </tr>\n",
       "    <tr>\n",
       "      <th>2</th>\n",
       "      <td>50003</td>\n",
       "      <td>1</td>\n",
       "      <td>NaN</td>\n",
       "      <td>Phone</td>\n",
       "      <td>1</td>\n",
       "      <td>30.0</td>\n",
       "      <td>Debit Card</td>\n",
       "      <td>Male</td>\n",
       "      <td>2.0</td>\n",
       "      <td>4</td>\n",
       "      <td>Mobile</td>\n",
       "      <td>3</td>\n",
       "      <td>Single</td>\n",
       "      <td>6</td>\n",
       "      <td>1</td>\n",
       "      <td>14.0</td>\n",
       "      <td>0.0</td>\n",
       "      <td>1.0</td>\n",
       "      <td>3.0</td>\n",
       "      <td>120.28</td>\n",
       "    </tr>\n",
       "    <tr>\n",
       "      <th>3</th>\n",
       "      <td>50004</td>\n",
       "      <td>1</td>\n",
       "      <td>0.0</td>\n",
       "      <td>Phone</td>\n",
       "      <td>3</td>\n",
       "      <td>15.0</td>\n",
       "      <td>Debit Card</td>\n",
       "      <td>Male</td>\n",
       "      <td>2.0</td>\n",
       "      <td>4</td>\n",
       "      <td>Laptop &amp; Accessory</td>\n",
       "      <td>5</td>\n",
       "      <td>Single</td>\n",
       "      <td>8</td>\n",
       "      <td>0</td>\n",
       "      <td>23.0</td>\n",
       "      <td>0.0</td>\n",
       "      <td>1.0</td>\n",
       "      <td>3.0</td>\n",
       "      <td>134.07</td>\n",
       "    </tr>\n",
       "    <tr>\n",
       "      <th>4</th>\n",
       "      <td>50005</td>\n",
       "      <td>1</td>\n",
       "      <td>0.0</td>\n",
       "      <td>Phone</td>\n",
       "      <td>1</td>\n",
       "      <td>12.0</td>\n",
       "      <td>CC</td>\n",
       "      <td>Male</td>\n",
       "      <td>NaN</td>\n",
       "      <td>3</td>\n",
       "      <td>Mobile</td>\n",
       "      <td>5</td>\n",
       "      <td>Single</td>\n",
       "      <td>3</td>\n",
       "      <td>0</td>\n",
       "      <td>11.0</td>\n",
       "      <td>1.0</td>\n",
       "      <td>1.0</td>\n",
       "      <td>3.0</td>\n",
       "      <td>129.60</td>\n",
       "    </tr>\n",
       "    <tr>\n",
       "      <th>...</th>\n",
       "      <td>...</td>\n",
       "      <td>...</td>\n",
       "      <td>...</td>\n",
       "      <td>...</td>\n",
       "      <td>...</td>\n",
       "      <td>...</td>\n",
       "      <td>...</td>\n",
       "      <td>...</td>\n",
       "      <td>...</td>\n",
       "      <td>...</td>\n",
       "      <td>...</td>\n",
       "      <td>...</td>\n",
       "      <td>...</td>\n",
       "      <td>...</td>\n",
       "      <td>...</td>\n",
       "      <td>...</td>\n",
       "      <td>...</td>\n",
       "      <td>...</td>\n",
       "      <td>...</td>\n",
       "      <td>...</td>\n",
       "    </tr>\n",
       "    <tr>\n",
       "      <th>5625</th>\n",
       "      <td>55626</td>\n",
       "      <td>0</td>\n",
       "      <td>10.0</td>\n",
       "      <td>Computer</td>\n",
       "      <td>1</td>\n",
       "      <td>30.0</td>\n",
       "      <td>Credit Card</td>\n",
       "      <td>Male</td>\n",
       "      <td>3.0</td>\n",
       "      <td>2</td>\n",
       "      <td>Laptop &amp; Accessory</td>\n",
       "      <td>1</td>\n",
       "      <td>Married</td>\n",
       "      <td>6</td>\n",
       "      <td>0</td>\n",
       "      <td>18.0</td>\n",
       "      <td>1.0</td>\n",
       "      <td>2.0</td>\n",
       "      <td>4.0</td>\n",
       "      <td>150.71</td>\n",
       "    </tr>\n",
       "    <tr>\n",
       "      <th>5626</th>\n",
       "      <td>55627</td>\n",
       "      <td>0</td>\n",
       "      <td>13.0</td>\n",
       "      <td>Mobile Phone</td>\n",
       "      <td>1</td>\n",
       "      <td>13.0</td>\n",
       "      <td>Credit Card</td>\n",
       "      <td>Male</td>\n",
       "      <td>3.0</td>\n",
       "      <td>5</td>\n",
       "      <td>Fashion</td>\n",
       "      <td>5</td>\n",
       "      <td>Married</td>\n",
       "      <td>6</td>\n",
       "      <td>0</td>\n",
       "      <td>16.0</td>\n",
       "      <td>1.0</td>\n",
       "      <td>2.0</td>\n",
       "      <td>NaN</td>\n",
       "      <td>224.91</td>\n",
       "    </tr>\n",
       "    <tr>\n",
       "      <th>5627</th>\n",
       "      <td>55628</td>\n",
       "      <td>0</td>\n",
       "      <td>1.0</td>\n",
       "      <td>Mobile Phone</td>\n",
       "      <td>1</td>\n",
       "      <td>11.0</td>\n",
       "      <td>Debit Card</td>\n",
       "      <td>Male</td>\n",
       "      <td>3.0</td>\n",
       "      <td>2</td>\n",
       "      <td>Laptop &amp; Accessory</td>\n",
       "      <td>4</td>\n",
       "      <td>Married</td>\n",
       "      <td>3</td>\n",
       "      <td>1</td>\n",
       "      <td>21.0</td>\n",
       "      <td>1.0</td>\n",
       "      <td>2.0</td>\n",
       "      <td>4.0</td>\n",
       "      <td>186.42</td>\n",
       "    </tr>\n",
       "    <tr>\n",
       "      <th>5628</th>\n",
       "      <td>55629</td>\n",
       "      <td>0</td>\n",
       "      <td>23.0</td>\n",
       "      <td>Computer</td>\n",
       "      <td>3</td>\n",
       "      <td>9.0</td>\n",
       "      <td>Credit Card</td>\n",
       "      <td>Male</td>\n",
       "      <td>4.0</td>\n",
       "      <td>5</td>\n",
       "      <td>Laptop &amp; Accessory</td>\n",
       "      <td>4</td>\n",
       "      <td>Married</td>\n",
       "      <td>4</td>\n",
       "      <td>0</td>\n",
       "      <td>15.0</td>\n",
       "      <td>2.0</td>\n",
       "      <td>2.0</td>\n",
       "      <td>9.0</td>\n",
       "      <td>178.90</td>\n",
       "    </tr>\n",
       "    <tr>\n",
       "      <th>5629</th>\n",
       "      <td>55630</td>\n",
       "      <td>0</td>\n",
       "      <td>8.0</td>\n",
       "      <td>Mobile Phone</td>\n",
       "      <td>1</td>\n",
       "      <td>15.0</td>\n",
       "      <td>Credit Card</td>\n",
       "      <td>Male</td>\n",
       "      <td>3.0</td>\n",
       "      <td>2</td>\n",
       "      <td>Laptop &amp; Accessory</td>\n",
       "      <td>3</td>\n",
       "      <td>Married</td>\n",
       "      <td>4</td>\n",
       "      <td>0</td>\n",
       "      <td>13.0</td>\n",
       "      <td>2.0</td>\n",
       "      <td>2.0</td>\n",
       "      <td>3.0</td>\n",
       "      <td>169.04</td>\n",
       "    </tr>\n",
       "  </tbody>\n",
       "</table>\n",
       "<p>5630 rows × 20 columns</p>\n",
       "</div>"
      ],
      "text/plain": [
       "      CustomerID  Churn  Tenure PreferredLoginDevice  CityTier  \\\n",
       "0          50001      1     4.0         Mobile Phone         3   \n",
       "1          50002      1     NaN                Phone         1   \n",
       "2          50003      1     NaN                Phone         1   \n",
       "3          50004      1     0.0                Phone         3   \n",
       "4          50005      1     0.0                Phone         1   \n",
       "...          ...    ...     ...                  ...       ...   \n",
       "5625       55626      0    10.0             Computer         1   \n",
       "5626       55627      0    13.0         Mobile Phone         1   \n",
       "5627       55628      0     1.0         Mobile Phone         1   \n",
       "5628       55629      0    23.0             Computer         3   \n",
       "5629       55630      0     8.0         Mobile Phone         1   \n",
       "\n",
       "      WarehouseToHome PreferredPaymentMode  Gender  HourSpendOnApp  \\\n",
       "0                 6.0           Debit Card  Female             3.0   \n",
       "1                 8.0                  UPI    Male             3.0   \n",
       "2                30.0           Debit Card    Male             2.0   \n",
       "3                15.0           Debit Card    Male             2.0   \n",
       "4                12.0                   CC    Male             NaN   \n",
       "...               ...                  ...     ...             ...   \n",
       "5625             30.0          Credit Card    Male             3.0   \n",
       "5626             13.0          Credit Card    Male             3.0   \n",
       "5627             11.0           Debit Card    Male             3.0   \n",
       "5628              9.0          Credit Card    Male             4.0   \n",
       "5629             15.0          Credit Card    Male             3.0   \n",
       "\n",
       "      NumberOfDeviceRegistered    PreferedOrderCat  SatisfactionScore  \\\n",
       "0                            3  Laptop & Accessory                  2   \n",
       "1                            4              Mobile                  3   \n",
       "2                            4              Mobile                  3   \n",
       "3                            4  Laptop & Accessory                  5   \n",
       "4                            3              Mobile                  5   \n",
       "...                        ...                 ...                ...   \n",
       "5625                         2  Laptop & Accessory                  1   \n",
       "5626                         5             Fashion                  5   \n",
       "5627                         2  Laptop & Accessory                  4   \n",
       "5628                         5  Laptop & Accessory                  4   \n",
       "5629                         2  Laptop & Accessory                  3   \n",
       "\n",
       "     MaritalStatus  NumberOfAddress  Complain  OrderAmountHikeFromlastYear  \\\n",
       "0           Single                9         1                         11.0   \n",
       "1           Single                7         1                         15.0   \n",
       "2           Single                6         1                         14.0   \n",
       "3           Single                8         0                         23.0   \n",
       "4           Single                3         0                         11.0   \n",
       "...            ...              ...       ...                          ...   \n",
       "5625       Married                6         0                         18.0   \n",
       "5626       Married                6         0                         16.0   \n",
       "5627       Married                3         1                         21.0   \n",
       "5628       Married                4         0                         15.0   \n",
       "5629       Married                4         0                         13.0   \n",
       "\n",
       "      CouponUsed  OrderCount  DaySinceLastOrder  CashbackAmount  \n",
       "0            1.0         1.0                5.0          159.93  \n",
       "1            0.0         1.0                0.0          120.90  \n",
       "2            0.0         1.0                3.0          120.28  \n",
       "3            0.0         1.0                3.0          134.07  \n",
       "4            1.0         1.0                3.0          129.60  \n",
       "...          ...         ...                ...             ...  \n",
       "5625         1.0         2.0                4.0          150.71  \n",
       "5626         1.0         2.0                NaN          224.91  \n",
       "5627         1.0         2.0                4.0          186.42  \n",
       "5628         2.0         2.0                9.0          178.90  \n",
       "5629         2.0         2.0                3.0          169.04  \n",
       "\n",
       "[5630 rows x 20 columns]"
      ]
     },
     "metadata": {},
     "output_type": "display_data"
    }
   ],
   "source": [
    "display(ecomerce_df)"
   ]
  },
  {
   "cell_type": "code",
   "execution_count": 78,
   "id": "14beb5d6",
   "metadata": {},
   "outputs": [
    {
     "data": {
      "text/plain": [
       "np.int64(0)"
      ]
     },
     "execution_count": 78,
     "metadata": {},
     "output_type": "execute_result"
    }
   ],
   "source": [
    "ecomerce_df.duplicated().sum()"
   ]
  },
  {
   "cell_type": "code",
   "execution_count": 79,
   "id": "eb4e07a3",
   "metadata": {},
   "outputs": [
    {
     "data": {
      "text/plain": [
       "CustomerID                       0\n",
       "Churn                            0\n",
       "Tenure                         264\n",
       "PreferredLoginDevice             0\n",
       "CityTier                         0\n",
       "WarehouseToHome                251\n",
       "PreferredPaymentMode             0\n",
       "Gender                           0\n",
       "HourSpendOnApp                 255\n",
       "NumberOfDeviceRegistered         0\n",
       "PreferedOrderCat                 0\n",
       "SatisfactionScore                0\n",
       "MaritalStatus                    0\n",
       "NumberOfAddress                  0\n",
       "Complain                         0\n",
       "OrderAmountHikeFromlastYear    265\n",
       "CouponUsed                     256\n",
       "OrderCount                     258\n",
       "DaySinceLastOrder              307\n",
       "CashbackAmount                   0\n",
       "dtype: int64"
      ]
     },
     "execution_count": 79,
     "metadata": {},
     "output_type": "execute_result"
    }
   ],
   "source": [
    "ecomerce_df.isnull().sum()"
   ]
  },
  {
   "cell_type": "code",
   "execution_count": 80,
   "id": "2738b19a",
   "metadata": {},
   "outputs": [
    {
     "data": {
      "text/plain": [
       "np.int64(1856)"
      ]
     },
     "execution_count": 80,
     "metadata": {},
     "output_type": "execute_result"
    }
   ],
   "source": [
    "ecomerce_df.isnull().sum().sum()"
   ]
  },
  {
   "cell_type": "code",
   "execution_count": 81,
   "id": "84973245",
   "metadata": {},
   "outputs": [
    {
     "data": {
      "text/html": [
       "<div>\n",
       "<style scoped>\n",
       "    .dataframe tbody tr th:only-of-type {\n",
       "        vertical-align: middle;\n",
       "    }\n",
       "\n",
       "    .dataframe tbody tr th {\n",
       "        vertical-align: top;\n",
       "    }\n",
       "\n",
       "    .dataframe thead th {\n",
       "        text-align: right;\n",
       "    }\n",
       "</style>\n",
       "<table border=\"1\" class=\"dataframe\">\n",
       "  <thead>\n",
       "    <tr style=\"text-align: right;\">\n",
       "      <th></th>\n",
       "      <th>CustomerID</th>\n",
       "      <th>Churn</th>\n",
       "      <th>Tenure</th>\n",
       "      <th>CityTier</th>\n",
       "      <th>WarehouseToHome</th>\n",
       "      <th>HourSpendOnApp</th>\n",
       "      <th>NumberOfDeviceRegistered</th>\n",
       "      <th>SatisfactionScore</th>\n",
       "      <th>NumberOfAddress</th>\n",
       "      <th>Complain</th>\n",
       "      <th>OrderAmountHikeFromlastYear</th>\n",
       "      <th>CouponUsed</th>\n",
       "      <th>OrderCount</th>\n",
       "      <th>DaySinceLastOrder</th>\n",
       "      <th>CashbackAmount</th>\n",
       "    </tr>\n",
       "  </thead>\n",
       "  <tbody>\n",
       "    <tr>\n",
       "      <th>count</th>\n",
       "      <td>5630.000000</td>\n",
       "      <td>5630.000000</td>\n",
       "      <td>5366.000000</td>\n",
       "      <td>5630.000000</td>\n",
       "      <td>5379.000000</td>\n",
       "      <td>5375.000000</td>\n",
       "      <td>5630.000000</td>\n",
       "      <td>5630.000000</td>\n",
       "      <td>5630.000000</td>\n",
       "      <td>5630.000000</td>\n",
       "      <td>5365.000000</td>\n",
       "      <td>5374.000000</td>\n",
       "      <td>5372.000000</td>\n",
       "      <td>5323.000000</td>\n",
       "      <td>5630.000000</td>\n",
       "    </tr>\n",
       "    <tr>\n",
       "      <th>mean</th>\n",
       "      <td>52815.500000</td>\n",
       "      <td>0.168384</td>\n",
       "      <td>10.189899</td>\n",
       "      <td>1.654707</td>\n",
       "      <td>15.639896</td>\n",
       "      <td>2.931535</td>\n",
       "      <td>3.688988</td>\n",
       "      <td>3.066785</td>\n",
       "      <td>4.214032</td>\n",
       "      <td>0.284902</td>\n",
       "      <td>15.707922</td>\n",
       "      <td>1.751023</td>\n",
       "      <td>3.008004</td>\n",
       "      <td>4.543491</td>\n",
       "      <td>177.223030</td>\n",
       "    </tr>\n",
       "    <tr>\n",
       "      <th>std</th>\n",
       "      <td>1625.385339</td>\n",
       "      <td>0.374240</td>\n",
       "      <td>8.557241</td>\n",
       "      <td>0.915389</td>\n",
       "      <td>8.531475</td>\n",
       "      <td>0.721926</td>\n",
       "      <td>1.023999</td>\n",
       "      <td>1.380194</td>\n",
       "      <td>2.583586</td>\n",
       "      <td>0.451408</td>\n",
       "      <td>3.675485</td>\n",
       "      <td>1.894621</td>\n",
       "      <td>2.939680</td>\n",
       "      <td>3.654433</td>\n",
       "      <td>49.207036</td>\n",
       "    </tr>\n",
       "    <tr>\n",
       "      <th>min</th>\n",
       "      <td>50001.000000</td>\n",
       "      <td>0.000000</td>\n",
       "      <td>0.000000</td>\n",
       "      <td>1.000000</td>\n",
       "      <td>5.000000</td>\n",
       "      <td>0.000000</td>\n",
       "      <td>1.000000</td>\n",
       "      <td>1.000000</td>\n",
       "      <td>1.000000</td>\n",
       "      <td>0.000000</td>\n",
       "      <td>11.000000</td>\n",
       "      <td>0.000000</td>\n",
       "      <td>1.000000</td>\n",
       "      <td>0.000000</td>\n",
       "      <td>0.000000</td>\n",
       "    </tr>\n",
       "    <tr>\n",
       "      <th>25%</th>\n",
       "      <td>51408.250000</td>\n",
       "      <td>0.000000</td>\n",
       "      <td>2.000000</td>\n",
       "      <td>1.000000</td>\n",
       "      <td>9.000000</td>\n",
       "      <td>2.000000</td>\n",
       "      <td>3.000000</td>\n",
       "      <td>2.000000</td>\n",
       "      <td>2.000000</td>\n",
       "      <td>0.000000</td>\n",
       "      <td>13.000000</td>\n",
       "      <td>1.000000</td>\n",
       "      <td>1.000000</td>\n",
       "      <td>2.000000</td>\n",
       "      <td>145.770000</td>\n",
       "    </tr>\n",
       "    <tr>\n",
       "      <th>50%</th>\n",
       "      <td>52815.500000</td>\n",
       "      <td>0.000000</td>\n",
       "      <td>9.000000</td>\n",
       "      <td>1.000000</td>\n",
       "      <td>14.000000</td>\n",
       "      <td>3.000000</td>\n",
       "      <td>4.000000</td>\n",
       "      <td>3.000000</td>\n",
       "      <td>3.000000</td>\n",
       "      <td>0.000000</td>\n",
       "      <td>15.000000</td>\n",
       "      <td>1.000000</td>\n",
       "      <td>2.000000</td>\n",
       "      <td>3.000000</td>\n",
       "      <td>163.280000</td>\n",
       "    </tr>\n",
       "    <tr>\n",
       "      <th>75%</th>\n",
       "      <td>54222.750000</td>\n",
       "      <td>0.000000</td>\n",
       "      <td>16.000000</td>\n",
       "      <td>3.000000</td>\n",
       "      <td>20.000000</td>\n",
       "      <td>3.000000</td>\n",
       "      <td>4.000000</td>\n",
       "      <td>4.000000</td>\n",
       "      <td>6.000000</td>\n",
       "      <td>1.000000</td>\n",
       "      <td>18.000000</td>\n",
       "      <td>2.000000</td>\n",
       "      <td>3.000000</td>\n",
       "      <td>7.000000</td>\n",
       "      <td>196.392500</td>\n",
       "    </tr>\n",
       "    <tr>\n",
       "      <th>max</th>\n",
       "      <td>55630.000000</td>\n",
       "      <td>1.000000</td>\n",
       "      <td>61.000000</td>\n",
       "      <td>3.000000</td>\n",
       "      <td>127.000000</td>\n",
       "      <td>5.000000</td>\n",
       "      <td>6.000000</td>\n",
       "      <td>5.000000</td>\n",
       "      <td>22.000000</td>\n",
       "      <td>1.000000</td>\n",
       "      <td>26.000000</td>\n",
       "      <td>16.000000</td>\n",
       "      <td>16.000000</td>\n",
       "      <td>46.000000</td>\n",
       "      <td>324.990000</td>\n",
       "    </tr>\n",
       "  </tbody>\n",
       "</table>\n",
       "</div>"
      ],
      "text/plain": [
       "         CustomerID        Churn       Tenure     CityTier  WarehouseToHome  \\\n",
       "count   5630.000000  5630.000000  5366.000000  5630.000000      5379.000000   \n",
       "mean   52815.500000     0.168384    10.189899     1.654707        15.639896   \n",
       "std     1625.385339     0.374240     8.557241     0.915389         8.531475   \n",
       "min    50001.000000     0.000000     0.000000     1.000000         5.000000   \n",
       "25%    51408.250000     0.000000     2.000000     1.000000         9.000000   \n",
       "50%    52815.500000     0.000000     9.000000     1.000000        14.000000   \n",
       "75%    54222.750000     0.000000    16.000000     3.000000        20.000000   \n",
       "max    55630.000000     1.000000    61.000000     3.000000       127.000000   \n",
       "\n",
       "       HourSpendOnApp  NumberOfDeviceRegistered  SatisfactionScore  \\\n",
       "count     5375.000000               5630.000000        5630.000000   \n",
       "mean         2.931535                  3.688988           3.066785   \n",
       "std          0.721926                  1.023999           1.380194   \n",
       "min          0.000000                  1.000000           1.000000   \n",
       "25%          2.000000                  3.000000           2.000000   \n",
       "50%          3.000000                  4.000000           3.000000   \n",
       "75%          3.000000                  4.000000           4.000000   \n",
       "max          5.000000                  6.000000           5.000000   \n",
       "\n",
       "       NumberOfAddress     Complain  OrderAmountHikeFromlastYear   CouponUsed  \\\n",
       "count      5630.000000  5630.000000                  5365.000000  5374.000000   \n",
       "mean          4.214032     0.284902                    15.707922     1.751023   \n",
       "std           2.583586     0.451408                     3.675485     1.894621   \n",
       "min           1.000000     0.000000                    11.000000     0.000000   \n",
       "25%           2.000000     0.000000                    13.000000     1.000000   \n",
       "50%           3.000000     0.000000                    15.000000     1.000000   \n",
       "75%           6.000000     1.000000                    18.000000     2.000000   \n",
       "max          22.000000     1.000000                    26.000000    16.000000   \n",
       "\n",
       "        OrderCount  DaySinceLastOrder  CashbackAmount  \n",
       "count  5372.000000        5323.000000     5630.000000  \n",
       "mean      3.008004           4.543491      177.223030  \n",
       "std       2.939680           3.654433       49.207036  \n",
       "min       1.000000           0.000000        0.000000  \n",
       "25%       1.000000           2.000000      145.770000  \n",
       "50%       2.000000           3.000000      163.280000  \n",
       "75%       3.000000           7.000000      196.392500  \n",
       "max      16.000000          46.000000      324.990000  "
      ]
     },
     "execution_count": 81,
     "metadata": {},
     "output_type": "execute_result"
    }
   ],
   "source": [
    "ecomerce_df.describe()"
   ]
  },
  {
   "cell_type": "code",
   "execution_count": 82,
   "id": "9a64b6ba",
   "metadata": {},
   "outputs": [
    {
     "name": "stdout",
     "output_type": "stream",
     "text": [
      "<class 'pandas.core.frame.DataFrame'>\n",
      "RangeIndex: 5630 entries, 0 to 5629\n",
      "Data columns (total 20 columns):\n",
      " #   Column                       Non-Null Count  Dtype  \n",
      "---  ------                       --------------  -----  \n",
      " 0   CustomerID                   5630 non-null   int64  \n",
      " 1   Churn                        5630 non-null   int64  \n",
      " 2   Tenure                       5366 non-null   float64\n",
      " 3   PreferredLoginDevice         5630 non-null   object \n",
      " 4   CityTier                     5630 non-null   int64  \n",
      " 5   WarehouseToHome              5379 non-null   float64\n",
      " 6   PreferredPaymentMode         5630 non-null   object \n",
      " 7   Gender                       5630 non-null   object \n",
      " 8   HourSpendOnApp               5375 non-null   float64\n",
      " 9   NumberOfDeviceRegistered     5630 non-null   int64  \n",
      " 10  PreferedOrderCat             5630 non-null   object \n",
      " 11  SatisfactionScore            5630 non-null   int64  \n",
      " 12  MaritalStatus                5630 non-null   object \n",
      " 13  NumberOfAddress              5630 non-null   int64  \n",
      " 14  Complain                     5630 non-null   int64  \n",
      " 15  OrderAmountHikeFromlastYear  5365 non-null   float64\n",
      " 16  CouponUsed                   5374 non-null   float64\n",
      " 17  OrderCount                   5372 non-null   float64\n",
      " 18  DaySinceLastOrder            5323 non-null   float64\n",
      " 19  CashbackAmount               5630 non-null   float64\n",
      "dtypes: float64(8), int64(7), object(5)\n",
      "memory usage: 879.8+ KB\n"
     ]
    }
   ],
   "source": [
    "ecomerce_df.info()"
   ]
  },
  {
   "cell_type": "code",
   "execution_count": 83,
   "id": "5feb2472",
   "metadata": {},
   "outputs": [
    {
     "data": {
      "text/plain": [
       "CustomerID  Churn  Tenure  PreferredLoginDevice  CityTier  WarehouseToHome  PreferredPaymentMode  Gender  HourSpendOnApp  NumberOfDeviceRegistered  PreferedOrderCat    SatisfactionScore  MaritalStatus  NumberOfAddress  Complain  OrderAmountHikeFromlastYear  CouponUsed  OrderCount  DaySinceLastOrder  CashbackAmount\n",
       "55630       0      8.0     Mobile Phone          1         15.0             Credit Card           Male    3.0             2                         Laptop & Accessory  3                  Married        4                0         13.0                         2.0         2.0         3.0                169.04            1\n",
       "50001       1      4.0     Mobile Phone          3         6.0              Debit Card            Female  3.0             3                         Laptop & Accessory  2                  Single         9                1         11.0                         1.0         1.0         5.0                159.93            1\n",
       "50004       1      0.0     Phone                 3         15.0             Debit Card            Male    2.0             4                         Laptop & Accessory  5                  Single         8                0         23.0                         0.0         1.0         3.0                134.07            1\n",
       "50006       1      0.0     Computer              1         22.0             Debit Card            Female  3.0             5                         Mobile Phone        5                  Single         2                1         22.0                         4.0         6.0         7.0                139.19            1\n",
       "50012       1      11.0    Mobile Phone          1         6.0              Debit Card            Male    3.0             4                         Fashion             3                  Single         10               1         13.0                         0.0         1.0         0.0                153.81            1\n",
       "                                                                                                                                                                                                                                                                                                                              ..\n",
       "50071       0      10.0    Phone                 1         27.0             Debit Card            Male    3.0             2                         Mobile Phone        5                  Divorced       2                1         12.0                         0.0         1.0         7.0                135.64            1\n",
       "50072       0      8.0     Computer              1         8.0              Credit Card           Female  2.0             3                         Laptop & Accessory  4                  Single         6                0         11.0                         1.0         1.0         2.0                144.25            1\n",
       "50073       0      15.0    Computer              1         27.0             Credit Card           Female  2.0             3                         Laptop & Accessory  3                  Married        3                0         16.0                         0.0         1.0         2.0                152.65            1\n",
       "50074       0      11.0    Mobile Phone          1         8.0              Debit Card            Male    2.0             3                         Laptop & Accessory  3                  Divorced       10               0         14.0                         0.0         1.0         0.0                165.53            1\n",
       "50075       0      11.0    Mobile Phone          1         35.0             COD                   Male    2.0             3                         Laptop & Accessory  2                  Divorced       4                0         18.0                         0.0         1.0         7.0                162.61            1\n",
       "Name: count, Length: 3774, dtype: int64"
      ]
     },
     "execution_count": 83,
     "metadata": {},
     "output_type": "execute_result"
    }
   ],
   "source": [
    "ecomerce_df.value_counts()"
   ]
  },
  {
   "cell_type": "code",
   "execution_count": 84,
   "id": "8da0f27f",
   "metadata": {},
   "outputs": [
    {
     "data": {
      "text/plain": [
       "CustomerID                     0.000000\n",
       "Churn                          0.000000\n",
       "Tenure                         4.689165\n",
       "PreferredLoginDevice           0.000000\n",
       "CityTier                       0.000000\n",
       "WarehouseToHome                4.458259\n",
       "PreferredPaymentMode           0.000000\n",
       "Gender                         0.000000\n",
       "HourSpendOnApp                 4.529307\n",
       "NumberOfDeviceRegistered       0.000000\n",
       "PreferedOrderCat               0.000000\n",
       "SatisfactionScore              0.000000\n",
       "MaritalStatus                  0.000000\n",
       "NumberOfAddress                0.000000\n",
       "Complain                       0.000000\n",
       "OrderAmountHikeFromlastYear    4.706927\n",
       "CouponUsed                     4.547069\n",
       "OrderCount                     4.582593\n",
       "DaySinceLastOrder              5.452931\n",
       "CashbackAmount                 0.000000\n",
       "dtype: float64"
      ]
     },
     "execution_count": 84,
     "metadata": {},
     "output_type": "execute_result"
    }
   ],
   "source": [
    "(ecomerce_df.isnull().sum() / len(ecomerce_df)) * 100"
   ]
  },
  {
   "cell_type": "code",
   "execution_count": 85,
   "id": "a793e63c",
   "metadata": {},
   "outputs": [
    {
     "name": "stdout",
     "output_type": "stream",
     "text": [
      "9.0\n"
     ]
    }
   ],
   "source": [
    "median_Tenure = ecomerce_df['Tenure'].median()\n",
    "print(median_Tenure)"
   ]
  },
  {
   "cell_type": "code",
   "execution_count": 86,
   "id": "56b45337",
   "metadata": {},
   "outputs": [
    {
     "name": "stderr",
     "output_type": "stream",
     "text": [
      "/tmp/ipykernel_12321/1901201329.py:1: FutureWarning:\n",
      "\n",
      "A value is trying to be set on a copy of a DataFrame or Series through chained assignment using an inplace method.\n",
      "The behavior will change in pandas 3.0. This inplace method will never work because the intermediate object on which we are setting values always behaves as a copy.\n",
      "\n",
      "For example, when doing 'df[col].method(value, inplace=True)', try using 'df.method({col: value}, inplace=True)' or df[col] = df[col].method(value) instead, to perform the operation inplace on the original object.\n",
      "\n",
      "\n",
      "\n"
     ]
    }
   ],
   "source": [
    "ecomerce_df['Tenure'].fillna(median_Tenure, inplace=True)"
   ]
  },
  {
   "cell_type": "code",
   "execution_count": 87,
   "id": "eb806c75",
   "metadata": {},
   "outputs": [
    {
     "name": "stdout",
     "output_type": "stream",
     "text": [
      "14.0\n"
     ]
    }
   ],
   "source": [
    "WarehouseToHome_median = ecomerce_df['WarehouseToHome'].median()\n",
    "print(WarehouseToHome_median)"
   ]
  },
  {
   "cell_type": "code",
   "execution_count": 88,
   "id": "8f794573",
   "metadata": {},
   "outputs": [
    {
     "name": "stderr",
     "output_type": "stream",
     "text": [
      "/tmp/ipykernel_12321/25355649.py:1: FutureWarning:\n",
      "\n",
      "A value is trying to be set on a copy of a DataFrame or Series through chained assignment using an inplace method.\n",
      "The behavior will change in pandas 3.0. This inplace method will never work because the intermediate object on which we are setting values always behaves as a copy.\n",
      "\n",
      "For example, when doing 'df[col].method(value, inplace=True)', try using 'df.method({col: value}, inplace=True)' or df[col] = df[col].method(value) instead, to perform the operation inplace on the original object.\n",
      "\n",
      "\n",
      "\n"
     ]
    }
   ],
   "source": [
    "ecomerce_df['WarehouseToHome'].fillna(WarehouseToHome_median, inplace=True)"
   ]
  },
  {
   "cell_type": "code",
   "execution_count": 89,
   "id": "1b7b39cf",
   "metadata": {},
   "outputs": [
    {
     "name": "stdout",
     "output_type": "stream",
     "text": [
      "2.9315348837209303\n"
     ]
    }
   ],
   "source": [
    "HourSpendOnApp_mean = ecomerce_df['HourSpendOnApp'].mean()\n",
    "print(HourSpendOnApp_mean)"
   ]
  },
  {
   "cell_type": "code",
   "execution_count": 90,
   "id": "b19456a7",
   "metadata": {},
   "outputs": [
    {
     "name": "stderr",
     "output_type": "stream",
     "text": [
      "/tmp/ipykernel_12321/3285002945.py:1: FutureWarning:\n",
      "\n",
      "A value is trying to be set on a copy of a DataFrame or Series through chained assignment using an inplace method.\n",
      "The behavior will change in pandas 3.0. This inplace method will never work because the intermediate object on which we are setting values always behaves as a copy.\n",
      "\n",
      "For example, when doing 'df[col].method(value, inplace=True)', try using 'df.method({col: value}, inplace=True)' or df[col] = df[col].method(value) instead, to perform the operation inplace on the original object.\n",
      "\n",
      "\n",
      "\n"
     ]
    }
   ],
   "source": [
    "ecomerce_df['HourSpendOnApp'].fillna(HourSpendOnApp_mean, inplace=True)"
   ]
  },
  {
   "cell_type": "code",
   "execution_count": 91,
   "id": "6b852b23",
   "metadata": {},
   "outputs": [
    {
     "name": "stdout",
     "output_type": "stream",
     "text": [
      "15.707921714818266\n"
     ]
    }
   ],
   "source": [
    "OrderAmountHikeFromlastYear_mean = ecomerce_df['OrderAmountHikeFromlastYear'].mean()\n",
    "print(OrderAmountHikeFromlastYear_mean)"
   ]
  },
  {
   "cell_type": "code",
   "execution_count": 92,
   "id": "882286b2",
   "metadata": {},
   "outputs": [
    {
     "name": "stderr",
     "output_type": "stream",
     "text": [
      "/tmp/ipykernel_12321/519964949.py:1: FutureWarning:\n",
      "\n",
      "A value is trying to be set on a copy of a DataFrame or Series through chained assignment using an inplace method.\n",
      "The behavior will change in pandas 3.0. This inplace method will never work because the intermediate object on which we are setting values always behaves as a copy.\n",
      "\n",
      "For example, when doing 'df[col].method(value, inplace=True)', try using 'df.method({col: value}, inplace=True)' or df[col] = df[col].method(value) instead, to perform the operation inplace on the original object.\n",
      "\n",
      "\n",
      "\n"
     ]
    }
   ],
   "source": [
    "ecomerce_df['OrderAmountHikeFromlastYear'].fillna(OrderAmountHikeFromlastYear_mean, inplace=True)"
   ]
  },
  {
   "cell_type": "code",
   "execution_count": 93,
   "id": "23705d4c",
   "metadata": {},
   "outputs": [
    {
     "name": "stdout",
     "output_type": "stream",
     "text": [
      "1.0\n"
     ]
    }
   ],
   "source": [
    "CouponUsed_median = ecomerce_df['CouponUsed'].median() \n",
    "print(CouponUsed_median)"
   ]
  },
  {
   "cell_type": "code",
   "execution_count": 94,
   "id": "a3de5c31",
   "metadata": {},
   "outputs": [
    {
     "name": "stderr",
     "output_type": "stream",
     "text": [
      "/tmp/ipykernel_12321/2253733160.py:1: FutureWarning:\n",
      "\n",
      "A value is trying to be set on a copy of a DataFrame or Series through chained assignment using an inplace method.\n",
      "The behavior will change in pandas 3.0. This inplace method will never work because the intermediate object on which we are setting values always behaves as a copy.\n",
      "\n",
      "For example, when doing 'df[col].method(value, inplace=True)', try using 'df.method({col: value}, inplace=True)' or df[col] = df[col].method(value) instead, to perform the operation inplace on the original object.\n",
      "\n",
      "\n",
      "\n"
     ]
    }
   ],
   "source": [
    "ecomerce_df['CouponUsed'].fillna(CouponUsed_median, inplace=True)"
   ]
  },
  {
   "cell_type": "code",
   "execution_count": 95,
   "id": "b34a8b5c",
   "metadata": {},
   "outputs": [
    {
     "name": "stdout",
     "output_type": "stream",
     "text": [
      "3.0080044676098288\n"
     ]
    }
   ],
   "source": [
    "OrderCount_mean = ecomerce_df['OrderCount'].mean()\n",
    "print(OrderCount_mean)"
   ]
  },
  {
   "cell_type": "code",
   "execution_count": 96,
   "id": "44035b1f",
   "metadata": {},
   "outputs": [
    {
     "name": "stderr",
     "output_type": "stream",
     "text": [
      "/tmp/ipykernel_12321/885960797.py:1: FutureWarning:\n",
      "\n",
      "A value is trying to be set on a copy of a DataFrame or Series through chained assignment using an inplace method.\n",
      "The behavior will change in pandas 3.0. This inplace method will never work because the intermediate object on which we are setting values always behaves as a copy.\n",
      "\n",
      "For example, when doing 'df[col].method(value, inplace=True)', try using 'df.method({col: value}, inplace=True)' or df[col] = df[col].method(value) instead, to perform the operation inplace on the original object.\n",
      "\n",
      "\n",
      "\n"
     ]
    }
   ],
   "source": [
    "ecomerce_df['OrderCount'].fillna(OrderCount_mean, inplace=True)"
   ]
  },
  {
   "cell_type": "code",
   "execution_count": 97,
   "id": "28dabbcf",
   "metadata": {},
   "outputs": [
    {
     "name": "stdout",
     "output_type": "stream",
     "text": [
      "3.0\n"
     ]
    }
   ],
   "source": [
    "DaySinceLastOrder_median = ecomerce_df['DaySinceLastOrder'].median()\n",
    "print(DaySinceLastOrder_median)"
   ]
  },
  {
   "cell_type": "code",
   "execution_count": 98,
   "id": "06f85be7",
   "metadata": {},
   "outputs": [
    {
     "name": "stderr",
     "output_type": "stream",
     "text": [
      "/tmp/ipykernel_12321/3566763958.py:1: FutureWarning:\n",
      "\n",
      "A value is trying to be set on a copy of a DataFrame or Series through chained assignment using an inplace method.\n",
      "The behavior will change in pandas 3.0. This inplace method will never work because the intermediate object on which we are setting values always behaves as a copy.\n",
      "\n",
      "For example, when doing 'df[col].method(value, inplace=True)', try using 'df.method({col: value}, inplace=True)' or df[col] = df[col].method(value) instead, to perform the operation inplace on the original object.\n",
      "\n",
      "\n",
      "\n"
     ]
    }
   ],
   "source": [
    "ecomerce_df['DaySinceLastOrder'].fillna(DaySinceLastOrder_median, inplace=True)"
   ]
  },
  {
   "cell_type": "code",
   "execution_count": 99,
   "id": "80bfdd2a",
   "metadata": {},
   "outputs": [
    {
     "data": {
      "text/plain": [
       "0        Single\n",
       "1        Single\n",
       "2        Single\n",
       "3        Single\n",
       "4        Single\n",
       "         ...   \n",
       "5625    Married\n",
       "5626    Married\n",
       "5627    Married\n",
       "5628    Married\n",
       "5629    Married\n",
       "Name: MaritalStatus, Length: 5630, dtype: object"
      ]
     },
     "execution_count": 99,
     "metadata": {},
     "output_type": "execute_result"
    }
   ],
   "source": [
    "ecomerce_df.MaritalStatus"
   ]
  },
  {
   "cell_type": "code",
   "execution_count": 100,
   "id": "eb3132b6",
   "metadata": {},
   "outputs": [],
   "source": [
    "ecomerce_df['Gender_boolean'] = np.where(ecomerce_df['Gender'] == 'Male', 1, 0)"
   ]
  },
  {
   "cell_type": "code",
   "execution_count": 101,
   "id": "ff3e5625",
   "metadata": {},
   "outputs": [],
   "source": [
    "ecomerce_df[\"MS_Married\"] = (ecomerce_df[\"MaritalStatus\"] == \"Married\").astype(int)\n",
    "ecomerce_df[\"MS_Single\"] = (ecomerce_df[\"MaritalStatus\"] == \"Single\").astype(int)\n",
    "ecomerce_df[\"MS_Divorced\"] = (ecomerce_df[\"MaritalStatus\"] == \"Divorced\").astype(int)"
   ]
  },
  {
   "cell_type": "code",
   "execution_count": 102,
   "id": "a7c717b5",
   "metadata": {},
   "outputs": [
    {
     "data": {
      "text/plain": [
       "PreferredLoginDevice\n",
       "Mobile Phone    2765\n",
       "Computer        1634\n",
       "Phone           1231\n",
       "Name: count, dtype: int64"
      ]
     },
     "execution_count": 102,
     "metadata": {},
     "output_type": "execute_result"
    }
   ],
   "source": [
    "ecomerce_df[\"PreferredLoginDevice\"].value_counts()"
   ]
  },
  {
   "cell_type": "code",
   "execution_count": 103,
   "id": "9f932c42",
   "metadata": {},
   "outputs": [],
   "source": [
    "ecomerce_df['PreferredLoginDevice_boolean'] = np.where(ecomerce_df['PreferredLoginDevice'].isin(['Phone','Mobile Phone']), 1, 0)"
   ]
  },
  {
   "cell_type": "code",
   "execution_count": 104,
   "id": "9d97443c",
   "metadata": {},
   "outputs": [
    {
     "data": {
      "text/html": [
       "<div>\n",
       "<style scoped>\n",
       "    .dataframe tbody tr th:only-of-type {\n",
       "        vertical-align: middle;\n",
       "    }\n",
       "\n",
       "    .dataframe tbody tr th {\n",
       "        vertical-align: top;\n",
       "    }\n",
       "\n",
       "    .dataframe thead th {\n",
       "        text-align: right;\n",
       "    }\n",
       "</style>\n",
       "<table border=\"1\" class=\"dataframe\">\n",
       "  <thead>\n",
       "    <tr style=\"text-align: right;\">\n",
       "      <th></th>\n",
       "      <th>CustomerID</th>\n",
       "      <th>Churn</th>\n",
       "      <th>Tenure</th>\n",
       "      <th>PreferredLoginDevice</th>\n",
       "      <th>CityTier</th>\n",
       "      <th>WarehouseToHome</th>\n",
       "      <th>PreferredPaymentMode</th>\n",
       "      <th>Gender</th>\n",
       "      <th>HourSpendOnApp</th>\n",
       "      <th>NumberOfDeviceRegistered</th>\n",
       "      <th>...</th>\n",
       "      <th>OrderAmountHikeFromlastYear</th>\n",
       "      <th>CouponUsed</th>\n",
       "      <th>OrderCount</th>\n",
       "      <th>DaySinceLastOrder</th>\n",
       "      <th>CashbackAmount</th>\n",
       "      <th>Gender_boolean</th>\n",
       "      <th>MS_Married</th>\n",
       "      <th>MS_Single</th>\n",
       "      <th>MS_Divorced</th>\n",
       "      <th>PreferredLoginDevice_boolean</th>\n",
       "    </tr>\n",
       "  </thead>\n",
       "  <tbody>\n",
       "    <tr>\n",
       "      <th>0</th>\n",
       "      <td>50001</td>\n",
       "      <td>1</td>\n",
       "      <td>4.0</td>\n",
       "      <td>Mobile Phone</td>\n",
       "      <td>3</td>\n",
       "      <td>6.0</td>\n",
       "      <td>Debit Card</td>\n",
       "      <td>Female</td>\n",
       "      <td>3.000000</td>\n",
       "      <td>3</td>\n",
       "      <td>...</td>\n",
       "      <td>11.0</td>\n",
       "      <td>1.0</td>\n",
       "      <td>1.0</td>\n",
       "      <td>5.0</td>\n",
       "      <td>159.93</td>\n",
       "      <td>0</td>\n",
       "      <td>0</td>\n",
       "      <td>1</td>\n",
       "      <td>0</td>\n",
       "      <td>1</td>\n",
       "    </tr>\n",
       "    <tr>\n",
       "      <th>1</th>\n",
       "      <td>50002</td>\n",
       "      <td>1</td>\n",
       "      <td>9.0</td>\n",
       "      <td>Phone</td>\n",
       "      <td>1</td>\n",
       "      <td>8.0</td>\n",
       "      <td>UPI</td>\n",
       "      <td>Male</td>\n",
       "      <td>3.000000</td>\n",
       "      <td>4</td>\n",
       "      <td>...</td>\n",
       "      <td>15.0</td>\n",
       "      <td>0.0</td>\n",
       "      <td>1.0</td>\n",
       "      <td>0.0</td>\n",
       "      <td>120.90</td>\n",
       "      <td>1</td>\n",
       "      <td>0</td>\n",
       "      <td>1</td>\n",
       "      <td>0</td>\n",
       "      <td>1</td>\n",
       "    </tr>\n",
       "    <tr>\n",
       "      <th>2</th>\n",
       "      <td>50003</td>\n",
       "      <td>1</td>\n",
       "      <td>9.0</td>\n",
       "      <td>Phone</td>\n",
       "      <td>1</td>\n",
       "      <td>30.0</td>\n",
       "      <td>Debit Card</td>\n",
       "      <td>Male</td>\n",
       "      <td>2.000000</td>\n",
       "      <td>4</td>\n",
       "      <td>...</td>\n",
       "      <td>14.0</td>\n",
       "      <td>0.0</td>\n",
       "      <td>1.0</td>\n",
       "      <td>3.0</td>\n",
       "      <td>120.28</td>\n",
       "      <td>1</td>\n",
       "      <td>0</td>\n",
       "      <td>1</td>\n",
       "      <td>0</td>\n",
       "      <td>1</td>\n",
       "    </tr>\n",
       "    <tr>\n",
       "      <th>3</th>\n",
       "      <td>50004</td>\n",
       "      <td>1</td>\n",
       "      <td>0.0</td>\n",
       "      <td>Phone</td>\n",
       "      <td>3</td>\n",
       "      <td>15.0</td>\n",
       "      <td>Debit Card</td>\n",
       "      <td>Male</td>\n",
       "      <td>2.000000</td>\n",
       "      <td>4</td>\n",
       "      <td>...</td>\n",
       "      <td>23.0</td>\n",
       "      <td>0.0</td>\n",
       "      <td>1.0</td>\n",
       "      <td>3.0</td>\n",
       "      <td>134.07</td>\n",
       "      <td>1</td>\n",
       "      <td>0</td>\n",
       "      <td>1</td>\n",
       "      <td>0</td>\n",
       "      <td>1</td>\n",
       "    </tr>\n",
       "    <tr>\n",
       "      <th>4</th>\n",
       "      <td>50005</td>\n",
       "      <td>1</td>\n",
       "      <td>0.0</td>\n",
       "      <td>Phone</td>\n",
       "      <td>1</td>\n",
       "      <td>12.0</td>\n",
       "      <td>CC</td>\n",
       "      <td>Male</td>\n",
       "      <td>2.931535</td>\n",
       "      <td>3</td>\n",
       "      <td>...</td>\n",
       "      <td>11.0</td>\n",
       "      <td>1.0</td>\n",
       "      <td>1.0</td>\n",
       "      <td>3.0</td>\n",
       "      <td>129.60</td>\n",
       "      <td>1</td>\n",
       "      <td>0</td>\n",
       "      <td>1</td>\n",
       "      <td>0</td>\n",
       "      <td>1</td>\n",
       "    </tr>\n",
       "    <tr>\n",
       "      <th>...</th>\n",
       "      <td>...</td>\n",
       "      <td>...</td>\n",
       "      <td>...</td>\n",
       "      <td>...</td>\n",
       "      <td>...</td>\n",
       "      <td>...</td>\n",
       "      <td>...</td>\n",
       "      <td>...</td>\n",
       "      <td>...</td>\n",
       "      <td>...</td>\n",
       "      <td>...</td>\n",
       "      <td>...</td>\n",
       "      <td>...</td>\n",
       "      <td>...</td>\n",
       "      <td>...</td>\n",
       "      <td>...</td>\n",
       "      <td>...</td>\n",
       "      <td>...</td>\n",
       "      <td>...</td>\n",
       "      <td>...</td>\n",
       "      <td>...</td>\n",
       "    </tr>\n",
       "    <tr>\n",
       "      <th>5625</th>\n",
       "      <td>55626</td>\n",
       "      <td>0</td>\n",
       "      <td>10.0</td>\n",
       "      <td>Computer</td>\n",
       "      <td>1</td>\n",
       "      <td>30.0</td>\n",
       "      <td>Credit Card</td>\n",
       "      <td>Male</td>\n",
       "      <td>3.000000</td>\n",
       "      <td>2</td>\n",
       "      <td>...</td>\n",
       "      <td>18.0</td>\n",
       "      <td>1.0</td>\n",
       "      <td>2.0</td>\n",
       "      <td>4.0</td>\n",
       "      <td>150.71</td>\n",
       "      <td>1</td>\n",
       "      <td>1</td>\n",
       "      <td>0</td>\n",
       "      <td>0</td>\n",
       "      <td>0</td>\n",
       "    </tr>\n",
       "    <tr>\n",
       "      <th>5626</th>\n",
       "      <td>55627</td>\n",
       "      <td>0</td>\n",
       "      <td>13.0</td>\n",
       "      <td>Mobile Phone</td>\n",
       "      <td>1</td>\n",
       "      <td>13.0</td>\n",
       "      <td>Credit Card</td>\n",
       "      <td>Male</td>\n",
       "      <td>3.000000</td>\n",
       "      <td>5</td>\n",
       "      <td>...</td>\n",
       "      <td>16.0</td>\n",
       "      <td>1.0</td>\n",
       "      <td>2.0</td>\n",
       "      <td>3.0</td>\n",
       "      <td>224.91</td>\n",
       "      <td>1</td>\n",
       "      <td>1</td>\n",
       "      <td>0</td>\n",
       "      <td>0</td>\n",
       "      <td>1</td>\n",
       "    </tr>\n",
       "    <tr>\n",
       "      <th>5627</th>\n",
       "      <td>55628</td>\n",
       "      <td>0</td>\n",
       "      <td>1.0</td>\n",
       "      <td>Mobile Phone</td>\n",
       "      <td>1</td>\n",
       "      <td>11.0</td>\n",
       "      <td>Debit Card</td>\n",
       "      <td>Male</td>\n",
       "      <td>3.000000</td>\n",
       "      <td>2</td>\n",
       "      <td>...</td>\n",
       "      <td>21.0</td>\n",
       "      <td>1.0</td>\n",
       "      <td>2.0</td>\n",
       "      <td>4.0</td>\n",
       "      <td>186.42</td>\n",
       "      <td>1</td>\n",
       "      <td>1</td>\n",
       "      <td>0</td>\n",
       "      <td>0</td>\n",
       "      <td>1</td>\n",
       "    </tr>\n",
       "    <tr>\n",
       "      <th>5628</th>\n",
       "      <td>55629</td>\n",
       "      <td>0</td>\n",
       "      <td>23.0</td>\n",
       "      <td>Computer</td>\n",
       "      <td>3</td>\n",
       "      <td>9.0</td>\n",
       "      <td>Credit Card</td>\n",
       "      <td>Male</td>\n",
       "      <td>4.000000</td>\n",
       "      <td>5</td>\n",
       "      <td>...</td>\n",
       "      <td>15.0</td>\n",
       "      <td>2.0</td>\n",
       "      <td>2.0</td>\n",
       "      <td>9.0</td>\n",
       "      <td>178.90</td>\n",
       "      <td>1</td>\n",
       "      <td>1</td>\n",
       "      <td>0</td>\n",
       "      <td>0</td>\n",
       "      <td>0</td>\n",
       "    </tr>\n",
       "    <tr>\n",
       "      <th>5629</th>\n",
       "      <td>55630</td>\n",
       "      <td>0</td>\n",
       "      <td>8.0</td>\n",
       "      <td>Mobile Phone</td>\n",
       "      <td>1</td>\n",
       "      <td>15.0</td>\n",
       "      <td>Credit Card</td>\n",
       "      <td>Male</td>\n",
       "      <td>3.000000</td>\n",
       "      <td>2</td>\n",
       "      <td>...</td>\n",
       "      <td>13.0</td>\n",
       "      <td>2.0</td>\n",
       "      <td>2.0</td>\n",
       "      <td>3.0</td>\n",
       "      <td>169.04</td>\n",
       "      <td>1</td>\n",
       "      <td>1</td>\n",
       "      <td>0</td>\n",
       "      <td>0</td>\n",
       "      <td>1</td>\n",
       "    </tr>\n",
       "  </tbody>\n",
       "</table>\n",
       "<p>5630 rows × 25 columns</p>\n",
       "</div>"
      ],
      "text/plain": [
       "      CustomerID  Churn  Tenure PreferredLoginDevice  CityTier  \\\n",
       "0          50001      1     4.0         Mobile Phone         3   \n",
       "1          50002      1     9.0                Phone         1   \n",
       "2          50003      1     9.0                Phone         1   \n",
       "3          50004      1     0.0                Phone         3   \n",
       "4          50005      1     0.0                Phone         1   \n",
       "...          ...    ...     ...                  ...       ...   \n",
       "5625       55626      0    10.0             Computer         1   \n",
       "5626       55627      0    13.0         Mobile Phone         1   \n",
       "5627       55628      0     1.0         Mobile Phone         1   \n",
       "5628       55629      0    23.0             Computer         3   \n",
       "5629       55630      0     8.0         Mobile Phone         1   \n",
       "\n",
       "      WarehouseToHome PreferredPaymentMode  Gender  HourSpendOnApp  \\\n",
       "0                 6.0           Debit Card  Female        3.000000   \n",
       "1                 8.0                  UPI    Male        3.000000   \n",
       "2                30.0           Debit Card    Male        2.000000   \n",
       "3                15.0           Debit Card    Male        2.000000   \n",
       "4                12.0                   CC    Male        2.931535   \n",
       "...               ...                  ...     ...             ...   \n",
       "5625             30.0          Credit Card    Male        3.000000   \n",
       "5626             13.0          Credit Card    Male        3.000000   \n",
       "5627             11.0           Debit Card    Male        3.000000   \n",
       "5628              9.0          Credit Card    Male        4.000000   \n",
       "5629             15.0          Credit Card    Male        3.000000   \n",
       "\n",
       "      NumberOfDeviceRegistered  ... OrderAmountHikeFromlastYear  CouponUsed  \\\n",
       "0                            3  ...                        11.0         1.0   \n",
       "1                            4  ...                        15.0         0.0   \n",
       "2                            4  ...                        14.0         0.0   \n",
       "3                            4  ...                        23.0         0.0   \n",
       "4                            3  ...                        11.0         1.0   \n",
       "...                        ...  ...                         ...         ...   \n",
       "5625                         2  ...                        18.0         1.0   \n",
       "5626                         5  ...                        16.0         1.0   \n",
       "5627                         2  ...                        21.0         1.0   \n",
       "5628                         5  ...                        15.0         2.0   \n",
       "5629                         2  ...                        13.0         2.0   \n",
       "\n",
       "     OrderCount  DaySinceLastOrder  CashbackAmount  Gender_boolean  \\\n",
       "0           1.0                5.0          159.93               0   \n",
       "1           1.0                0.0          120.90               1   \n",
       "2           1.0                3.0          120.28               1   \n",
       "3           1.0                3.0          134.07               1   \n",
       "4           1.0                3.0          129.60               1   \n",
       "...         ...                ...             ...             ...   \n",
       "5625        2.0                4.0          150.71               1   \n",
       "5626        2.0                3.0          224.91               1   \n",
       "5627        2.0                4.0          186.42               1   \n",
       "5628        2.0                9.0          178.90               1   \n",
       "5629        2.0                3.0          169.04               1   \n",
       "\n",
       "      MS_Married  MS_Single  MS_Divorced  PreferredLoginDevice_boolean  \n",
       "0              0          1            0                             1  \n",
       "1              0          1            0                             1  \n",
       "2              0          1            0                             1  \n",
       "3              0          1            0                             1  \n",
       "4              0          1            0                             1  \n",
       "...          ...        ...          ...                           ...  \n",
       "5625           1          0            0                             0  \n",
       "5626           1          0            0                             1  \n",
       "5627           1          0            0                             1  \n",
       "5628           1          0            0                             0  \n",
       "5629           1          0            0                             1  \n",
       "\n",
       "[5630 rows x 25 columns]"
      ]
     },
     "execution_count": 104,
     "metadata": {},
     "output_type": "execute_result"
    }
   ],
   "source": [
    "ecomerce_df"
   ]
  },
  {
   "cell_type": "code",
   "execution_count": 105,
   "id": "dd9cbf71",
   "metadata": {},
   "outputs": [
    {
     "data": {
      "image/png": "[encoded data removed]",
      "text/plain": [
       "<Figure size 640x480 with 1 Axes>"
      ]
     },
     "metadata": {},
     "output_type": "display_data"
    }
   ],
   "source": [
    "\n",
    "count_churn=ecomerce_df[\"Churn\"].value_counts()\n",
    "plt.pie(count_churn,labels=[\"Not Chruned\",\"Churned\"],autopct=\"%1.1f%%\",explode=[0,.05],colors=[\"blue\",\"red\"])\n",
    "plt.title(\"Customer Churn Distribution\",fontdict={\"fontweight\":\"bold\"})\n",
    "plt.show()\n"
   ]
  },
  {
   "cell_type": "code",
   "execution_count": 106,
   "id": "62b208db",
   "metadata": {},
   "outputs": [
    {
     "data": {
      "image/png": "[encoded data removed]",
      "text/plain": [
       "<Figure size 640x480 with 1 Axes>"
      ]
     },
     "metadata": {},
     "output_type": "display_data"
    }
   ],
   "source": [
    "sns.countplot(x=\"PreferredLoginDevice\", data=ecomerce_df, order=ecomerce_df[\"PreferredLoginDevice\"].value_counts().index)\n",
    "plt.title(\"Preferred Login Device\")\n",
    "plt.xticks(rotation=30)\n",
    "plt.show()\n"
   ]
  },
  {
   "cell_type": "code",
   "execution_count": 107,
   "id": "cc23be81",
   "metadata": {},
   "outputs": [
    {
     "name": "stderr",
     "output_type": "stream",
     "text": [
      "/tmp/ipykernel_12321/4109219729.py:4: FutureWarning:\n",
      "\n",
      "\n",
      "\n",
      "Passing `palette` without assigning `hue` is deprecated and will be removed in v0.14.0. Assign the `x` variable to `hue` and set `legend=False` for the same effect.\n",
      "\n",
      "\n",
      "/tmp/ipykernel_12321/4109219729.py:4: UserWarning:\n",
      "\n",
      "The palette list has more values (15) than needed (7), which may not be intended.\n",
      "\n"
     ]
    },
    {
     "data": {
      "image/png": "[encoded data removed]",
      "text/plain": [
       "<Figure size 640x480 with 1 Axes>"
      ]
     },
     "metadata": {},
     "output_type": "display_data"
    }
   ],
   "source": [
    "colors = [\"#90D7F8\", \"#FF69B4\", \"#FFD700\", \"#7B68EE\", \"#FF4500\",\n",
    "          \"#9370DB\", \"#32CD32\", \"#8A2BE2\", \"#AE4532\", \"#20B2AA\",\n",
    "          \"#FF69B4\", \"#00CED1\", \"#FF7F50\", \"#7FFF00\", \"#DA70D6\"]\n",
    "sns.countplot(x=\"PreferredPaymentMode\", data=ecomerce_df, order=ecomerce_df[\"PreferredPaymentMode\"].value_counts().index,palette=colors,edgecolor=\"black\")\n",
    "plt.title(\"Preferred Payment Mode\")\n",
    "plt.xticks(rotation=30)\n",
    "plt.show()\n",
    "\n"
   ]
  },
  {
   "cell_type": "code",
   "execution_count": 108,
   "id": "948634c5",
   "metadata": {},
   "outputs": [
    {
     "data": {
      "text/plain": [
       "<matplotlib.legend.Legend at 0x78c0bb4cab70>"
      ]
     },
     "execution_count": 108,
     "metadata": {},
     "output_type": "execute_result"
    },
    {
     "data": {
      "image/png": "[encoded data removed]",
      "text/plain": [
       "<Figure size 600x400 with 1 Axes>"
      ]
     },
     "metadata": {},
     "output_type": "display_data"
    }
   ],
   "source": [
    "plt.figure(figsize=(6,4))\n",
    "ax = sns.countplot(x=\"Gender\", hue=\"Churn\", data=ecomerce_df, palette=\"Set2\")\n",
    "\n",
    "\n",
    "plt.title(\"Churn Distribution by Gender\")\n",
    "plt.xlabel(\"Gender\")\n",
    "plt.ylabel(\"Count\")\n",
    "plt.legend(title=\"Churn\", labels=[\"Stayed (0)\", \"Churned (1)\"])"
   ]
  },
  {
   "cell_type": "code",
   "execution_count": 109,
   "id": "d3d6ec48",
   "metadata": {},
   "outputs": [
    {
     "data": {
      "application/vnd.plotly.v1+json": {
       "config": {
        "plotlyServerURL": "https://plot.ly"
       },
       "data": [
        {
         "domain": {
          "x": [
           0,
           1
          ],
          "y": [
           0,
           1
          ]
         },
         "hovertemplate": "PreferredPaymentMode=%{label}<extra></extra>",
         "labels": [
          "Debit Card",
          "UPI",
          "Debit Card",
          "Debit Card",
          "CC",
          "Debit Card",
          "Cash on Delivery",
          "CC",
          "E wallet",
          "Debit Card",
          "Cash on Delivery",
          "Debit Card",
          "COD",
          "CC",
          "Credit Card",
          "UPI",
          "Debit Card",
          "E wallet",
          "Debit Card",
          "Debit Card",
          "Debit Card",
          "Credit Card",
          "E wallet",
          "Debit Card",
          "Debit Card",
          "Credit Card",
          "COD",
          "Debit Card",
          "E wallet",
          "Debit Card",
          "Credit Card",
          "E wallet",
          "Credit Card",
          "COD",
          "E wallet",
          "Cash on Delivery",
          "CC",
          "CC",
          "Debit Card",
          "Debit Card",
          "Credit Card",
          "CC",
          "Debit Card",
          "Debit Card",
          "Debit Card",
          "CC",
          "E wallet",
          "Debit Card",
          "Credit Card",
          "CC",
          "Credit Card",
          "UPI",
          "Cash on Delivery",
          "E wallet",
          "E wallet",
          "E wallet",
          "Debit Card",
          "E wallet",
          "COD",
          "COD",
          "Credit Card",
          "COD",
          "E wallet",
          "COD",
          "COD",
          "Credit Card",
          "CC",
          "Debit Card",
          "UPI",
          "COD",
          "Debit Card",
          "E wallet",
          "COD",
          "UPI",
          "Debit Card",
          "Debit Card",
          "Credit Card",
          "E wallet",
          "Debit Card",
          "Credit Card",
          "Debit Card",
          "Debit Card",
          "COD",
          "Debit Card",
          "CC",
          "UPI",
          "Debit Card",
          "Credit Card",
          "COD",
          "Debit Card",
          "Debit Card",
          "E wallet",
          "Debit Card",
          "Credit Card",
          "E wallet",
          "Credit Card",
          "CC",
          "Debit Card",
          "CC",
          "Debit Card",
          "Debit Card",
          "CC",
          "UPI",
          "Debit Card",
          "Debit Card",
          "CC",
          "E wallet",
          "UPI",
          "COD",
          "Debit Card",
          "Debit Card",
          "COD",
          "Debit Card",
          "CC",
          "Debit Card",
          "Debit Card",
          "UPI",
          "CC",
          "CC",
          "Credit Card",
          "Credit Card",
          "E wallet",
          "Debit Card",
          "UPI",
          "Debit Card",
          "E wallet",
          "Debit Card",
          "Debit Card",
          "COD",
          "Credit Card",
          "Cash on Delivery",
          "Credit Card",
          "COD",
          "CC",
          "CC",
          "CC",
          "UPI",
          "Debit Card",
          "CC",
          "E wallet",
          "CC",
          "Debit Card",
          "Debit Card",
          "Debit Card",
          "E wallet",
          "Debit Card",
          "Debit Card",
          "Debit Card",
          "Debit Card",
          "CC",
          "Debit Card",
          "E wallet",
          "Debit Card",
          "Credit Card",
          "COD",
          "Debit Card",
          "Credit Card",
          "E wallet",
          "Debit Card",
          "Debit Card",
          "Debit Card",
          "Credit Card",
          "E wallet",
          "Debit Card",
          "E wallet",
          "Credit Card",
          "Debit Card",
          "Debit Card",
          "UPI",
          "Debit Card",
          "Debit Card",
          "Debit Card",
          "E wallet",
          "Debit Card",
          "Debit Card",
          "Debit Card",
          "COD",
          "COD",
          "COD",
          "Credit Card",
          "CC",
          "CC",
          "COD",
          "Debit Card",
          "Debit Card",
          "Debit Card",
          "Debit Card",
          "Cash on Delivery",
          "Credit Card",
          "CC",
          "Credit Card",
          "Credit Card",
          "Credit Card",
          "Debit Card",
          "UPI",
          "Credit Card",
          "CC",
          "Debit Card",
          "Debit Card",
          "UPI",
          "Debit Card",
          "E wallet",
          "Debit Card",
          "UPI",
          "E wallet",
          "Debit Card",
          "E wallet",
          "COD",
          "E wallet",
          "CC",
          "CC",
          "Debit Card",
          "Debit Card",
          "Credit Card",
          "CC",
          "Credit Card",
          "UPI",
          "UPI",
          "E wallet",
          "Debit Card",
          "Debit Card",
          "Credit Card",
          "Debit Card",
          "COD",
          "Debit Card",
          "Cash on Delivery",
          "E wallet",
          "Debit Card",
          "UPI",
          "COD",
          "E wallet",
          "Debit Card",
          "E wallet",
          "Credit Card",
          "COD",
          "Debit Card",
          "E wallet",
          "Debit Card",
          "UPI",
          "Debit Card",
          "Debit Card",
          "CC",
          "Debit Card",
          "Cash on Delivery",
          "CC",
          "E wallet",
          "Debit Card",
          "Cash on Delivery",
          "Debit Card",
          "COD",
          "CC",
          "Credit Card",
          "UPI",
          "Debit Card",
          "E wallet",
          "Debit Card",
          "Debit Card",
          "Debit Card",
          "Credit Card",
          "E wallet",
          "Debit Card",
          "Debit Card",
          "Credit Card",
          "COD",
          "Debit Card",
          "E wallet",
          "Debit Card",
          "Credit Card",
          "E wallet",
          "Credit Card",
          "COD",
          "E wallet",
          "Cash on Delivery",
          "CC",
          "CC",
          "Debit Card",
          "Debit Card",
          "Credit Card",
          "Credit Card",
          "Debit Card",
          "Debit Card",
          "Debit Card",
          "CC",
          "E wallet",
          "Debit Card",
          "Credit Card",
          "CC",
          "Credit Card",
          "UPI",
          "Cash on Delivery",
          "E wallet",
          "E wallet",
          "E wallet",
          "Debit Card",
          "E wallet",
          "COD",
          "COD",
          "Credit Card",
          "COD",
          "E wallet",
          "COD",
          "COD",
          "Credit Card",
          "CC",
          "Debit Card",
          "UPI",
          "COD",
          "Debit Card",
          "E wallet",
          "COD",
          "UPI",
          "Debit Card",
          "Debit Card",
          "Credit Card",
          "E wallet",
          "Debit Card",
          "Credit Card",
          "Debit Card",
          "Debit Card",
          "COD",
          "Debit Card",
          "CC",
          "UPI",
          "Debit Card",
          "Credit Card",
          "COD",
          "Debit Card",
          "Debit Card",
          "E wallet",
          "Debit Card",
          "Credit Card",
          "E wallet",
          "Credit Card",
          "CC",
          "Debit Card",
          "CC",
          "Debit Card",
          "Debit Card",
          "CC",
          "UPI",
          "Debit Card",
          "Debit Card",
          "CC",
          "E wallet",
          "UPI",
          "COD",
          "Debit Card",
          "Debit Card",
          "COD",
          "Debit Card",
          "CC",
          "Debit Card",
          "Debit Card",
          "UPI",
          "CC",
          "CC",
          "Credit Card",
          "Credit Card",
          "E wallet",
          "Debit Card",
          "UPI",
          "Debit Card",
          "E wallet",
          "Debit Card",
          "Debit Card",
          "COD",
          "Credit Card",
          "Cash on Delivery",
          "Credit Card",
          "COD",
          "CC",
          "CC",
          "CC",
          "UPI",
          "Debit Card",
          "CC",
          "E wallet",
          "CC",
          "Debit Card",
          "Debit Card",
          "Debit Card",
          "E wallet",
          "Debit Card",
          "Debit Card",
          "Debit Card",
          "Debit Card",
          "CC",
          "Debit Card",
          "E wallet",
          "Debit Card",
          "Credit Card",
          "COD",
          "Debit Card",
          "Credit Card",
          "E wallet",
          "Debit Card",
          "Debit Card",
          "Debit Card",
          "Credit Card",
          "E wallet",
          "Debit Card",
          "E wallet",
          "Credit Card",
          "Debit Card",
          "Debit Card",
          "UPI",
          "Debit Card",
          "Debit Card",
          "Debit Card",
          "E wallet",
          "Debit Card",
          "Debit Card",
          "Debit Card",
          "COD",
          "COD",
          "COD",
          "Credit Card",
          "CC",
          "CC",
          "COD",
          "Debit Card",
          "Debit Card",
          "Debit Card",
          "Debit Card",
          "Cash on Delivery",
          "Credit Card",
          "CC",
          "Credit Card",
          "Credit Card",
          "Credit Card",
          "Debit Card",
          "UPI",
          "Credit Card",
          "CC",
          "Debit Card",
          "Debit Card",
          "UPI",
          "Debit Card",
          "E wallet",
          "Debit Card",
          "UPI",
          "E wallet",
          "Debit Card",
          "E wallet",
          "COD",
          "E wallet",
          "CC",
          "CC",
          "Debit Card",
          "Debit Card",
          "Credit Card",
          "CC",
          "Credit Card",
          "UPI",
          "UPI",
          "E wallet",
          "Debit Card",
          "Debit Card",
          "Credit Card",
          "Debit Card",
          "COD",
          "Debit Card",
          "Cash on Delivery",
          "E wallet",
          "Debit Card",
          "UPI",
          "COD",
          "E wallet",
          "Debit Card",
          "E wallet",
          "Credit Card",
          "COD",
          "Debit Card",
          "E wallet",
          "Debit Card",
          "UPI",
          "Debit Card",
          "Debit Card",
          "Credit Card",
          "Debit Card",
          "COD",
          "Credit Card",
          "E wallet",
          "Debit Card",
          "Cash on Delivery",
          "Debit Card",
          "COD",
          "Credit Card",
          "Credit Card",
          "UPI",
          "Debit Card",
          "E wallet",
          "Debit Card",
          "Debit Card",
          "Debit Card",
          "Credit Card",
          "E wallet",
          "Debit Card",
          "Debit Card",
          "Credit Card",
          "COD",
          "Debit Card",
          "E wallet",
          "Debit Card",
          "Credit Card",
          "E wallet",
          "Credit Card",
          "COD",
          "E wallet",
          "COD",
          "Credit Card",
          "Credit Card",
          "Debit Card",
          "Debit Card",
          "Credit Card",
          "Credit Card",
          "Debit Card",
          "Debit Card",
          "Debit Card",
          "Credit Card",
          "E wallet",
          "Debit Card",
          "Credit Card",
          "Credit Card",
          "Credit Card",
          "UPI",
          "COD",
          "E wallet",
          "E wallet",
          "E wallet",
          "Debit Card",
          "E wallet",
          "COD",
          "COD",
          "Credit Card",
          "COD",
          "E wallet",
          "COD",
          "COD",
          "Credit Card",
          "Credit Card",
          "Debit Card",
          "UPI",
          "COD",
          "Debit Card",
          "E wallet",
          "COD",
          "UPI",
          "Debit Card",
          "Debit Card",
          "Credit Card",
          "E wallet",
          "Debit Card",
          "Credit Card",
          "Debit Card",
          "Debit Card",
          "COD",
          "Debit Card",
          "Credit Card",
          "UPI",
          "Debit Card",
          "Credit Card",
          "COD",
          "Debit Card",
          "Debit Card",
          "E wallet",
          "Debit Card",
          "Credit Card",
          "E wallet",
          "Credit Card",
          "Credit Card",
          "Debit Card",
          "Credit Card",
          "Debit Card",
          "Debit Card",
          "Credit Card",
          "UPI",
          "Debit Card",
          "Debit Card",
          "Credit Card",
          "E wallet",
          "UPI",
          "COD",
          "Debit Card",
          "Debit Card",
          "COD",
          "Debit Card",
          "Credit Card",
          "Debit Card",
          "Debit Card",
          "UPI",
          "Credit Card",
          "Credit Card",
          "Credit Card",
          "Credit Card",
          "E wallet",
          "Debit Card",
          "UPI",
          "Debit Card",
          "E wallet",
          "Debit Card",
          "Debit Card",
          "Cash on Delivery",
          "Credit Card",
          "Cash on Delivery",
          "Credit Card",
          "COD",
          "Credit Card",
          "Credit Card",
          "Credit Card",
          "UPI",
          "Debit Card",
          "Credit Card",
          "E wallet",
          "Credit Card",
          "Debit Card",
          "Debit Card",
          "Debit Card",
          "E wallet",
          "Debit Card",
          "Debit Card",
          "Debit Card",
          "Debit Card",
          "Credit Card",
          "Debit Card",
          "E wallet",
          "Debit Card",
          "Credit Card",
          "COD",
          "Debit Card",
          "Credit Card",
          "E wallet",
          "Debit Card",
          "Debit Card",
          "Debit Card",
          "Credit Card",
          "E wallet",
          "Debit Card",
          "E wallet",
          "Credit Card",
          "Debit Card",
          "Debit Card",
          "UPI",
          "Debit Card",
          "Debit Card",
          "Debit Card",
          "E wallet",
          "Debit Card",
          "Debit Card",
          "Debit Card",
          "COD",
          "COD",
          "COD",
          "Credit Card",
          "Credit Card",
          "Credit Card",
          "COD",
          "Debit Card",
          "Debit Card",
          "Debit Card",
          "Debit Card",
          "Cash on Delivery",
          "Credit Card",
          "Credit Card",
          "Credit Card",
          "Credit Card",
          "Credit Card",
          "Debit Card",
          "UPI",
          "Credit Card",
          "Credit Card",
          "Debit Card",
          "Debit Card",
          "UPI",
          "Debit Card",
          "E wallet",
          "Debit Card",
          "UPI",
          "E wallet",
          "Debit Card",
          "E wallet",
          "COD",
          "E wallet",
          "Credit Card",
          "Credit Card",
          "Debit Card",
          "Debit Card",
          "Credit Card",
          "Credit Card",
          "Credit Card",
          "UPI",
          "UPI",
          "E wallet",
          "Debit Card",
          "Debit Card",
          "Credit Card",
          "Debit Card",
          "COD",
          "Debit Card",
          "COD",
          "E wallet",
          "Debit Card",
          "UPI",
          "COD",
          "E wallet",
          "Debit Card",
          "E wallet",
          "Credit Card",
          "COD",
          "Debit Card",
          "E wallet",
          "Debit Card",
          "UPI",
          "Debit Card",
          "Debit Card",
          "Credit Card",
          "Debit Card",
          "COD",
          "Credit Card",
          "E wallet",
          "Debit Card",
          "Cash on Delivery",
          "Debit Card",
          "COD",
          "Credit Card",
          "Credit Card",
          "UPI",
          "Debit Card",
          "E wallet",
          "Debit Card",
          "Debit Card",
          "Debit Card",
          "Credit Card",
          "E wallet",
          "Debit Card",
          "Debit Card",
          "Credit Card",
          "COD",
          "Debit Card",
          "E wallet",
          "Debit Card",
          "Credit Card",
          "E wallet",
          "Credit Card",
          "COD",
          "E wallet",
          "COD",
          "Credit Card",
          "Credit Card",
          "Debit Card",
          "Debit Card",
          "Credit Card",
          "Credit Card",
          "Debit Card",
          "Debit Card",
          "Debit Card",
          "Credit Card",
          "E wallet",
          "Debit Card",
          "Credit Card",
          "Credit Card",
          "Credit Card",
          "UPI",
          "COD",
          "E wallet",
          "E wallet",
          "E wallet",
          "Debit Card",
          "E wallet",
          "COD",
          "COD",
          "Credit Card",
          "COD",
          "E wallet",
          "COD",
          "COD",
          "Credit Card",
          "Credit Card",
          "Debit Card",
          "UPI",
          "COD",
          "Debit Card",
          "E wallet",
          "COD",
          "UPI",
          "Debit Card",
          "Debit Card",
          "Credit Card",
          "E wallet",
          "Debit Card",
          "Credit Card",
          "Debit Card",
          "Debit Card",
          "Cash on Delivery",
          "Debit Card",
          "Credit Card",
          "UPI",
          "Debit Card",
          "Credit Card",
          "COD",
          "Debit Card",
          "Debit Card",
          "E wallet",
          "Debit Card",
          "Credit Card",
          "E wallet",
          "Credit Card",
          "Credit Card",
          "Debit Card",
          "Credit Card",
          "Debit Card",
          "Debit Card",
          "Credit Card",
          "UPI",
          "Debit Card",
          "Debit Card",
          "Credit Card",
          "E wallet",
          "UPI",
          "COD",
          "Debit Card",
          "Debit Card",
          "COD",
          "Debit Card",
          "Credit Card",
          "Debit Card",
          "Debit Card",
          "UPI",
          "Credit Card",
          "Credit Card",
          "Credit Card",
          "Credit Card",
          "E wallet",
          "Debit Card",
          "UPI",
          "Debit Card",
          "E wallet",
          "Debit Card",
          "Debit Card",
          "Cash on Delivery",
          "Credit Card",
          "Cash on Delivery",
          "Credit Card",
          "COD",
          "Credit Card",
          "Credit Card",
          "Credit Card",
          "UPI",
          "Debit Card",
          "Credit Card",
          "E wallet",
          "Credit Card",
          "Debit Card",
          "Debit Card",
          "Debit Card",
          "E wallet",
          "Debit Card",
          "Debit Card",
          "Debit Card",
          "Debit Card",
          "Credit Card",
          "Debit Card",
          "E wallet",
          "Debit Card",
          "Credit Card",
          "COD",
          "Debit Card",
          "Credit Card",
          "E wallet",
          "Debit Card",
          "Debit Card",
          "Debit Card",
          "Credit Card",
          "E wallet",
          "Debit Card",
          "E wallet",
          "Credit Card",
          "Debit Card",
          "Debit Card",
          "UPI",
          "Debit Card",
          "Debit Card",
          "Debit Card",
          "E wallet",
          "Debit Card",
          "Debit Card",
          "Debit Card",
          "COD",
          "COD",
          "COD",
          "Credit Card",
          "Credit Card",
          "Credit Card",
          "COD",
          "Debit Card",
          "Debit Card",
          "Debit Card",
          "Debit Card",
          "Cash on Delivery",
          "Credit Card",
          "Credit Card",
          "Credit Card",
          "Credit Card",
          "Credit Card",
          "Debit Card",
          "UPI",
          "Credit Card",
          "Credit Card",
          "Debit Card",
          "Debit Card",
          "UPI",
          "Debit Card",
          "E wallet",
          "Debit Card",
          "UPI",
          "E wallet",
          "Debit Card",
          "E wallet",
          "COD",
          "E wallet",
          "Credit Card",
          "Credit Card",
          "Debit Card",
          "Debit Card",
          "Credit Card",
          "Credit Card",
          "Credit Card",
          "UPI",
          "UPI",
          "E wallet",
          "Debit Card",
          "Debit Card",
          "Credit Card",
          "Debit Card",
          "COD",
          "Debit Card",
          "COD",
          "E wallet",
          "Debit Card",
          "UPI",
          "COD",
          "E wallet",
          "Debit Card",
          "E wallet",
          "Credit Card",
          "COD",
          "Debit Card",
          "E wallet"
         ],
         "legendgroup": "",
         "name": "",
         "showlegend": true,
         "type": "pie"
        }
       ],
       "layout": {
        "legend": {
         "tracegroupgap": 0
        },
        "template": {
         "data": {
          "bar": [
           {
            "error_x": {
             "color": "#2a3f5f"
            },
            "error_y": {
             "color": "#2a3f5f"
            },
            "marker": {
             "line": {
              "color": "#E5ECF6",
              "width": 0.5
             },
             "pattern": {
              "fillmode": "overlay",
              "size": 10,
              "solidity": 0.2
             }
            },
            "type": "bar"
           }
          ],
          "barpolar": [
           {
            "marker": {
             "line": {
              "color": "#E5ECF6",
              "width": 0.5
             },
             "pattern": {
              "fillmode": "overlay",
              "size": 10,
              "solidity": 0.2
             }
            },
            "type": "barpolar"
           }
          ],
          "carpet": [
           {
            "aaxis": {
             "endlinecolor": "#2a3f5f",
             "gridcolor": "white",
             "linecolor": "white",
             "minorgridcolor": "white",
             "startlinecolor": "#2a3f5f"
            },
            "baxis": {
             "endlinecolor": "#2a3f5f",
             "gridcolor": "white",
             "linecolor": "white",
             "minorgridcolor": "white",
             "startlinecolor": "#2a3f5f"
            },
            "type": "carpet"
           }
          ],
          "choropleth": [
           {
            "colorbar": {
             "outlinewidth": 0,
             "ticks": ""
            },
            "type": "choropleth"
           }
          ],
          "contour": [
           {
            "colorbar": {
             "outlinewidth": 0,
             "ticks": ""
            },
            "colorscale": [
             [
              0,
              "#0d0887"
             ],
             [
              0.1111111111111111,
              "#46039f"
             ],
             [
              0.2222222222222222,
              "#7201a8"
             ],
             [
              0.3333333333333333,
              "#9c179e"
             ],
             [
              0.4444444444444444,
              "#bd3786"
             ],
             [
              0.5555555555555556,
              "#d8576b"
             ],
             [
              0.6666666666666666,
              "#ed7953"
             ],
             [
              0.7777777777777778,
              "#fb9f3a"
             ],
             [
              0.8888888888888888,
              "#fdca26"
             ],
             [
              1,
              "#f0f921"
             ]
            ],
            "type": "contour"
           }
          ],
          "contourcarpet": [
           {
            "colorbar": {
             "outlinewidth": 0,
             "ticks": ""
            },
            "type": "contourcarpet"
           }
          ],
          "heatmap": [
           {
            "colorbar": {
             "outlinewidth": 0,
             "ticks": ""
            },
            "colorscale": [
             [
              0,
              "#0d0887"
             ],
             [
              0.1111111111111111,
              "#46039f"
             ],
             [
              0.2222222222222222,
              "#7201a8"
             ],
             [
              0.3333333333333333,
              "#9c179e"
             ],
             [
              0.4444444444444444,
              "#bd3786"
             ],
             [
              0.5555555555555556,
              "#d8576b"
             ],
             [
              0.6666666666666666,
              "#ed7953"
             ],
             [
              0.7777777777777778,
              "#fb9f3a"
             ],
             [
              0.8888888888888888,
              "#fdca26"
             ],
             [
              1,
              "#f0f921"
             ]
            ],
            "type": "heatmap"
           }
          ],
          "histogram": [
           {
            "marker": {
             "pattern": {
              "fillmode": "overlay",
              "size": 10,
              "solidity": 0.2
             }
            },
            "type": "histogram"
           }
          ],
          "histogram2d": [
           {
            "colorbar": {
             "outlinewidth": 0,
             "ticks": ""
            },
            "colorscale": [
             [
              0,
              "#0d0887"
             ],
             [
              0.1111111111111111,
              "#46039f"
             ],
             [
              0.2222222222222222,
              "#7201a8"
             ],
             [
              0.3333333333333333,
              "#9c179e"
             ],
             [
              0.4444444444444444,
              "#bd3786"
             ],
             [
              0.5555555555555556,
              "#d8576b"
             ],
             [
              0.6666666666666666,
              "#ed7953"
             ],
             [
              0.7777777777777778,
              "#fb9f3a"
             ],
             [
              0.8888888888888888,
              "#fdca26"
             ],
             [
              1,
              "#f0f921"
             ]
            ],
            "type": "histogram2d"
           }
          ],
          "histogram2dcontour": [
           {
            "colorbar": {
             "outlinewidth": 0,
             "ticks": ""
            },
            "colorscale": [
             [
              0,
              "#0d0887"
             ],
             [
              0.1111111111111111,
              "#46039f"
             ],
             [
              0.2222222222222222,
              "#7201a8"
             ],
             [
              0.3333333333333333,
              "#9c179e"
             ],
             [
              0.4444444444444444,
              "#bd3786"
             ],
             [
              0.5555555555555556,
              "#d8576b"
             ],
             [
              0.6666666666666666,
              "#ed7953"
             ],
             [
              0.7777777777777778,
              "#fb9f3a"
             ],
             [
              0.8888888888888888,
              "#fdca26"
             ],
             [
              1,
              "#f0f921"
             ]
            ],
            "type": "histogram2dcontour"
           }
          ],
          "mesh3d": [
           {
            "colorbar": {
             "outlinewidth": 0,
             "ticks": ""
            },
            "type": "mesh3d"
           }
          ],
          "parcoords": [
           {
            "line": {
             "colorbar": {
              "outlinewidth": 0,
              "ticks": ""
             }
            },
            "type": "parcoords"
           }
          ],
          "pie": [
           {
            "automargin": true,
            "type": "pie"
           }
          ],
          "scatter": [
           {
            "fillpattern": {
             "fillmode": "overlay",
             "size": 10,
             "solidity": 0.2
            },
            "type": "scatter"
           }
          ],
          "scatter3d": [
           {
            "line": {
             "colorbar": {
              "outlinewidth": 0,
              "ticks": ""
             }
            },
            "marker": {
             "colorbar": {
              "outlinewidth": 0,
              "ticks": ""
             }
            },
            "type": "scatter3d"
           }
          ],
          "scattercarpet": [
           {
            "marker": {
             "colorbar": {
              "outlinewidth": 0,
              "ticks": ""
             }
            },
            "type": "scattercarpet"
           }
          ],
          "scattergeo": [
           {
            "marker": {
             "colorbar": {
              "outlinewidth": 0,
              "ticks": ""
             }
            },
            "type": "scattergeo"
           }
          ],
          "scattergl": [
           {
            "marker": {
             "colorbar": {
              "outlinewidth": 0,
              "ticks": ""
             }
            },
            "type": "scattergl"
           }
          ],
          "scattermap": [
           {
            "marker": {
             "colorbar": {
              "outlinewidth": 0,
              "ticks": ""
             }
            },
            "type": "scattermap"
           }
          ],
          "scattermapbox": [
           {
            "marker": {
             "colorbar": {
              "outlinewidth": 0,
              "ticks": ""
             }
            },
            "type": "scattermapbox"
           }
          ],
          "scatterpolar": [
           {
            "marker": {
             "colorbar": {
              "outlinewidth": 0,
              "ticks": ""
             }
            },
            "type": "scatterpolar"
           }
          ],
          "scatterpolargl": [
           {
            "marker": {
             "colorbar": {
              "outlinewidth": 0,
              "ticks": ""
             }
            },
            "type": "scatterpolargl"
           }
          ],
          "scatterternary": [
           {
            "marker": {
             "colorbar": {
              "outlinewidth": 0,
              "ticks": ""
             }
            },
            "type": "scatterternary"
           }
          ],
          "surface": [
           {
            "colorbar": {
             "outlinewidth": 0,
             "ticks": ""
            },
            "colorscale": [
             [
              0,
              "#0d0887"
             ],
             [
              0.1111111111111111,
              "#46039f"
             ],
             [
              0.2222222222222222,
              "#7201a8"
             ],
             [
              0.3333333333333333,
              "#9c179e"
             ],
             [
              0.4444444444444444,
              "#bd3786"
             ],
             [
              0.5555555555555556,
              "#d8576b"
             ],
             [
              0.6666666666666666,
              "#ed7953"
             ],
             [
              0.7777777777777778,
              "#fb9f3a"
             ],
             [
              0.8888888888888888,
              "#fdca26"
             ],
             [
              1,
              "#f0f921"
             ]
            ],
            "type": "surface"
           }
          ],
          "table": [
           {
            "cells": {
             "fill": {
              "color": "#EBF0F8"
             },
             "line": {
              "color": "white"
             }
            },
            "header": {
             "fill": {
              "color": "#C8D4E3"
             },
             "line": {
              "color": "white"
             }
            },
            "type": "table"
           }
          ]
         },
         "layout": {
          "annotationdefaults": {
           "arrowcolor": "#2a3f5f",
           "arrowhead": 0,
           "arrowwidth": 1
          },
          "autotypenumbers": "strict",
          "coloraxis": {
           "colorbar": {
            "outlinewidth": 0,
            "ticks": ""
           }
          },
          "colorscale": {
           "diverging": [
            [
             0,
             "#8e0152"
            ],
            [
             0.1,
             "#c51b7d"
            ],
            [
             0.2,
             "#de77ae"
            ],
            [
             0.3,
             "#f1b6da"
            ],
            [
             0.4,
             "#fde0ef"
            ],
            [
             0.5,
             "#f7f7f7"
            ],
            [
             0.6,
             "#e6f5d0"
            ],
            [
             0.7,
             "#b8e186"
            ],
            [
             0.8,
             "#7fbc41"
            ],
            [
             0.9,
             "#4d9221"
            ],
            [
             1,
             "#276419"
            ]
           ],
           "sequential": [
            [
             0,
             "#0d0887"
            ],
            [
             0.1111111111111111,
             "#46039f"
            ],
            [
             0.2222222222222222,
             "#7201a8"
            ],
            [
             0.3333333333333333,
             "#9c179e"
            ],
            [
             0.4444444444444444,
             "#bd3786"
            ],
            [
             0.5555555555555556,
             "#d8576b"
            ],
            [
             0.6666666666666666,
             "#ed7953"
            ],
            [
             0.7777777777777778,
             "#fb9f3a"
            ],
            [
             0.8888888888888888,
             "#fdca26"
            ],
            [
             1,
             "#f0f921"
            ]
           ],
           "sequentialminus": [
            [
             0,
             "#0d0887"
            ],
            [
             0.1111111111111111,
             "#46039f"
            ],
            [
             0.2222222222222222,
             "#7201a8"
            ],
            [
             0.3333333333333333,
             "#9c179e"
            ],
            [
             0.4444444444444444,
             "#bd3786"
            ],
            [
             0.5555555555555556,
             "#d8576b"
            ],
            [
             0.6666666666666666,
             "#ed7953"
            ],
            [
             0.7777777777777778,
             "#fb9f3a"
            ],
            [
             0.8888888888888888,
             "#fdca26"
            ],
            [
             1,
             "#f0f921"
            ]
           ]
          },
          "colorway": [
           "#636efa",
           "#EF553B",
           "#00cc96",
           "#ab63fa",
           "#FFA15A",
           "#19d3f3",
           "#FF6692",
           "#B6E880",
           "#FF97FF",
           "#FECB52"
          ],
          "font": {
           "color": "#2a3f5f"
          },
          "geo": {
           "bgcolor": "white",
           "lakecolor": "white",
           "landcolor": "#E5ECF6",
           "showlakes": true,
           "showland": true,
           "subunitcolor": "white"
          },
          "hoverlabel": {
           "align": "left"
          },
          "hovermode": "closest",
          "mapbox": {
           "style": "light"
          },
          "paper_bgcolor": "white",
          "plot_bgcolor": "#E5ECF6",
          "polar": {
           "angularaxis": {
            "gridcolor": "white",
            "linecolor": "white",
            "ticks": ""
           },
           "bgcolor": "#E5ECF6",
           "radialaxis": {
            "gridcolor": "white",
            "linecolor": "white",
            "ticks": ""
           }
          },
          "scene": {
           "xaxis": {
            "backgroundcolor": "#E5ECF6",
            "gridcolor": "white",
            "gridwidth": 2,
            "linecolor": "white",
            "showbackground": true,
            "ticks": "",
            "zerolinecolor": "white"
           },
           "yaxis": {
            "backgroundcolor": "#E5ECF6",
            "gridcolor": "white",
            "gridwidth": 2,
            "linecolor": "white",
            "showbackground": true,
            "ticks": "",
            "zerolinecolor": "white"
           },
           "zaxis": {
            "backgroundcolor": "#E5ECF6",
            "gridcolor": "white",
            "gridwidth": 2,
            "linecolor": "white",
            "showbackground": true,
            "ticks": "",
            "zerolinecolor": "white"
           }
          },
          "shapedefaults": {
           "line": {
            "color": "#2a3f5f"
           }
          },
          "ternary": {
           "aaxis": {
            "gridcolor": "white",
            "linecolor": "white",
            "ticks": ""
           },
           "baxis": {
            "gridcolor": "white",
            "linecolor": "white",
            "ticks": ""
           },
           "bgcolor": "#E5ECF6",
           "caxis": {
            "gridcolor": "white",
            "linecolor": "white",
            "ticks": ""
           }
          },
          "title": {
           "x": 0.05
          },
          "xaxis": {
           "automargin": true,
           "gridcolor": "white",
           "linecolor": "white",
           "ticks": "",
           "title": {
            "standoff": 15
           },
           "zerolinecolor": "white",
           "zerolinewidth": 2
          },
          "yaxis": {
           "automargin": true,
           "gridcolor": "white",
           "linecolor": "white",
           "ticks": "",
           "title": {
            "standoff": 15
           },
           "zerolinecolor": "white",
           "zerolinewidth": 2
          }
         }
        },
        "title": {
         "text": "Preferred Payment Mode (Churned Customers)"
        }
       }
      }
     },
     "metadata": {},
     "output_type": "display_data"
    }
   ],
   "source": [
    "fig = px.pie(\n",
    "    ecomerce_df[ecomerce_df[\"Churn\"]==1],\n",
    "    names=\"PreferredPaymentMode\",\n",
    "    title=\"Preferred Payment Mode (Churned Customers)\"\n",
    ")\n",
    "fig.show()"
   ]
  },
  {
   "cell_type": "code",
   "execution_count": 110,
   "id": "9c2798dc",
   "metadata": {},
   "outputs": [
    {
     "data": {
      "image/png": "[encoded data removed]",
      "text/plain": [
       "<Figure size 600x400 with 1 Axes>"
      ]
     },
     "metadata": {},
     "output_type": "display_data"
    }
   ],
   "source": [
    "plt.figure(figsize=(6,4))\n",
    "sns.countplot(y=\"MaritalStatus\", hue=\"Churn\", data=ecomerce_df, palette=\"pastel\")\n",
    "plt.title(\"Churn Distribution by Marital Status\")\n",
    "plt.xlabel(\"Count\")\n",
    "plt.ylabel(\"Marital Status\")\n",
    "plt.show()\n"
   ]
  },
  {
   "cell_type": "code",
   "execution_count": 111,
   "id": "32544e15",
   "metadata": {},
   "outputs": [
    {
     "data": {
      "image/png": "[encoded data removed]",
      "text/plain": [
       "<Figure size 700x400 with 1 Axes>"
      ]
     },
     "metadata": {},
     "output_type": "display_data"
    }
   ],
   "source": [
    "plt.figure(figsize=(7,4))\n",
    "sns.histplot(data=ecomerce_df, x=\"HourSpendOnApp\", hue=\"Churn\", kde=True, element=\"step\", bins=20)\n",
    "plt.title(\"Hours Spent on App by Churn\")\n",
    "plt.xlabel(\"Hours Spent on App\")\n",
    "plt.ylabel(\"Count\")\n",
    "plt.show()"
   ]
  },
  {
   "cell_type": "code",
   "execution_count": null,
   "id": "afe87456",
   "metadata": {},
   "outputs": [
    {
     "name": "stderr",
     "output_type": "stream",
     "text": [
      "Summarize dataset:  20%|██        | 6/30 [00:00<00:00, 54.01it/s, Describe variable: Gender]              "
     ]
    },
    {
     "name": "stderr",
     "output_type": "stream",
     "text": [
      "100%|██████████| 25/25 [00:00<00:00, 64.58it/s]0<00:00, 71.38it/s, Describe variable: PreferredLoginDevice_boolean]\n",
      "Summarize dataset: 100%|██████████| 155/155 [00:12<00:00, 12.90it/s, Completed]                                                       \n",
      "Generate report structure: 100%|██████████| 1/1 [00:04<00:00,  4.29s/it]\n",
      "Render HTML: 100%|██████████| 1/1 [00:00<00:00,  1.19it/s]\n"
     ]
    }
   ],
   "source": [
    "profile = ProfileReport(ecomerce_df, title=\"E-Commerce Churn EDA Report\", explorative=True)\n",
    "\n",
    "profile.to_notebook_iframe()"
   ]
  },
  {
   "cell_type": "code",
   "execution_count": null,
   "id": "a802c0d2",
   "metadata": {},
   "outputs": [
    {
     "name": "stdout",
     "output_type": "stream",
     "text": [
      "-26.927204328509323 2.494913539747146e-150\n"
     ]
    }
   ],
   "source": [
    "#t-test\n",
    "x_churn=ecomerce_df[ecomerce_df[\"Churn\"] == 1][\"Tenure\"]\n",
    "x_tenure=ecomerce_df[ecomerce_df[\"Churn\"] == 0][\"Tenure\"]\n",
    "t_statistcs,p_value=stats.ttest_ind(x_churn,x_tenure)\n",
    "print(t_statistcs,p_value) #p_value < 0.05"
   ]
  },
  {
   "cell_type": "code",
   "execution_count": null,
   "id": "44a6ac58",
   "metadata": {},
   "outputs": [],
   "source": [
    "ecomerce_df[\"PreferredLoginDevice\"]=ecomerce_df[\"PreferredLoginDevice\"].str.replace(\"Mobile Phone\",\"Phone\")"
   ]
  },
  {
   "cell_type": "code",
   "execution_count": null,
   "id": "bdf29060",
   "metadata": {},
   "outputs": [
    {
     "name": "stdout",
     "output_type": "stream",
     "text": [
      "14.40125265089403 0.0001477040239947965\n"
     ]
    }
   ],
   "source": [
    "x_login=ecomerce_df.PreferredLoginDevice\n",
    "congtingency=pd.crosstab(ecomerce_df[\"Churn\"],ecomerce_df[\"PreferredLoginDevice\"])\n",
    "chi_2,p_value,dof,expected=stats.chi2_contingency(congtingency)\n",
    "print(chi_2,p_value)#p_value < 0.05"
   ]
  },
  {
   "cell_type": "code",
   "execution_count": null,
   "id": "7ba99d0a",
   "metadata": {},
   "outputs": [
    {
     "name": "stdout",
     "output_type": "stream",
     "text": [
      "11.307283528901452 1.2564658258444098e-05\n"
     ]
    }
   ],
   "source": [
    "tier1 = ecomerce_df[ecomerce_df[\"CityTier\"] == 1][\"Tenure\"]\n",
    "tier2 = ecomerce_df[ecomerce_df[\"CityTier\"] == 2][\"Tenure\"]\n",
    "tier3 = ecomerce_df[ecomerce_df[\"CityTier\"] == 3][\"Tenure\"]\n",
    "f_stats,p_value=stats.f_oneway(tier1,tier2,tier3)\n",
    "print(f_stats,p_value)  #p_value < .05"
   ]
  },
  {
   "cell_type": "code",
   "execution_count": null,
   "id": "dc961176",
   "metadata": {},
   "outputs": [
    {
     "name": "stdout",
     "output_type": "stream",
     "text": [
      "5.229831299478068 1.7579836224030932e-07\n"
     ]
    }
   ],
   "source": [
    "#t-test\n",
    "x_churn=ecomerce_df[ecomerce_df[\"Churn\"] == 1][\"WarehouseToHome\"]\n",
    "x_ware=ecomerce_df[ecomerce_df[\"Churn\"] == 0][\"WarehouseToHome\"]\n",
    "t_statistcs,p_value=stats.ttest_ind(x_churn,x_ware)\n",
    "print(t_statistcs,p_value) #p_value < 0.05 "
   ]
  },
  {
   "cell_type": "code",
   "execution_count": null,
   "id": "6d67f5cc",
   "metadata": {},
   "outputs": [
    {
     "name": "stdout",
     "output_type": "stream",
     "text": [
      "77.89682023026812 9.708708511076305e-15\n"
     ]
    }
   ],
   "source": [
    "congtingency=pd.crosstab(ecomerce_df[\"Churn\"],ecomerce_df[\"PreferredPaymentMode\"])\n",
    "chi_2,p_value,dof,expected=stats.chi2_contingency(congtingency)\n",
    "print(chi_2,p_value)#p_value < 0.05"
   ]
  },
  {
   "cell_type": "code",
   "execution_count": null,
   "id": "c9e00a7f",
   "metadata": {},
   "outputs": [
    {
     "name": "stdout",
     "output_type": "stream",
     "text": [
      "4.662908495367532 0.030820940334890086\n"
     ]
    }
   ],
   "source": [
    "congtingency=pd.crosstab(ecomerce_df[\"Churn\"],ecomerce_df[\"Gender\"])\n",
    "chi_2,p_value,dof,expected=stats.chi2_contingency(congtingency)\n",
    "print(chi_2,p_value)#p_value < 0.05 "
   ]
  },
  {
   "cell_type": "code",
   "execution_count": null,
   "id": "b279e54d",
   "metadata": {},
   "outputs": [
    {
     "name": "stdout",
     "output_type": "stream",
     "text": [
      "1.3600078128387554 0.1738819262508301\n"
     ]
    }
   ],
   "source": [
    "#t-test\n",
    "x_churn=ecomerce_df[ecomerce_df[\"Churn\"] == 1][\"HourSpendOnApp\"]\n",
    "x_app=ecomerce_df[ecomerce_df[\"Churn\"] == 0][\"HourSpendOnApp\"]\n",
    "t_statistcs,p_value=stats.ttest_ind(x_churn,x_app)\n",
    "print(t_statistcs,p_value) #p_value > 0.05"
   ]
  },
  {
   "cell_type": "code",
   "execution_count": null,
   "id": "7d9bb87c",
   "metadata": {},
   "outputs": [
    {
     "name": "stdout",
     "output_type": "stream",
     "text": [
      "8.145136855113543 4.626451530290174e-16\n"
     ]
    }
   ],
   "source": [
    "x_churn=ecomerce_df[ecomerce_df[\"Churn\"] == 1][\"NumberOfDeviceRegistered\"]\n",
    "x_dev=ecomerce_df[ecomerce_df[\"Churn\"] == 0][\"NumberOfDeviceRegistered\"]\n",
    "t_statistcs,p_value=stats.ttest_ind(x_churn,x_dev)\n",
    "print(t_statistcs,p_value) #p_value < 0.05"
   ]
  },
  {
   "cell_type": "code",
   "execution_count": null,
   "id": "66b61f01",
   "metadata": {},
   "outputs": [
    {
     "name": "stdout",
     "output_type": "stream",
     "text": [
      "-0.7464232384504431 0.45544296328867817\n"
     ]
    }
   ],
   "source": [
    "x_churn=ecomerce_df[ecomerce_df[\"Churn\"] == 1][\"OrderAmountHikeFromlastYear\"]\n",
    "x_dev=ecomerce_df[ecomerce_df[\"Churn\"] == 0][\"OrderAmountHikeFromlastYear\"]\n",
    "t_statistcs,p_value=stats.ttest_ind(x_churn,x_dev)\n",
    "print(t_statistcs,p_value) #p_value > 0.05  "
   ]
  },
  {
   "cell_type": "code",
   "execution_count": null,
   "id": "1c7c4208",
   "metadata": {},
   "outputs": [
    {
     "name": "stdout",
     "output_type": "stream",
     "text": [
      "-0.10728700657961801 0.9145651164356325\n"
     ]
    }
   ],
   "source": [
    "x_churn=ecomerce_df[ecomerce_df[\"Churn\"] == 1][\"CouponUsed\"]\n",
    "x_cop=ecomerce_df[ecomerce_df[\"Churn\"] == 0][\"CouponUsed\"]\n",
    "t_statistcs,p_value=stats.ttest_ind(x_churn,x_cop)\n",
    "print(t_statistcs,p_value) #p_value > 0.05  "
   ]
  },
  {
   "cell_type": "code",
   "execution_count": null,
   "id": "f37f8228",
   "metadata": {},
   "outputs": [
    {
     "data": {
      "text/html": [
       "<div>\n",
       "<style scoped>\n",
       "    .dataframe tbody tr th:only-of-type {\n",
       "        vertical-align: middle;\n",
       "    }\n",
       "\n",
       "    .dataframe tbody tr th {\n",
       "        vertical-align: top;\n",
       "    }\n",
       "\n",
       "    .dataframe thead th {\n",
       "        text-align: right;\n",
       "    }\n",
       "</style>\n",
       "<table border=\"1\" class=\"dataframe\">\n",
       "  <thead>\n",
       "    <tr style=\"text-align: right;\">\n",
       "      <th></th>\n",
       "      <th>CustomerID</th>\n",
       "      <th>Churn</th>\n",
       "      <th>Tenure</th>\n",
       "      <th>PreferredLoginDevice</th>\n",
       "      <th>CityTier</th>\n",
       "      <th>WarehouseToHome</th>\n",
       "      <th>PreferredPaymentMode</th>\n",
       "      <th>Gender</th>\n",
       "      <th>HourSpendOnApp</th>\n",
       "      <th>NumberOfDeviceRegistered</th>\n",
       "      <th>...</th>\n",
       "      <th>OrderAmountHikeFromlastYear</th>\n",
       "      <th>CouponUsed</th>\n",
       "      <th>OrderCount</th>\n",
       "      <th>DaySinceLastOrder</th>\n",
       "      <th>CashbackAmount</th>\n",
       "      <th>Gender_boolean</th>\n",
       "      <th>MS_Married</th>\n",
       "      <th>MS_Single</th>\n",
       "      <th>MS_Divorced</th>\n",
       "      <th>PreferredLoginDevice_boolean</th>\n",
       "    </tr>\n",
       "  </thead>\n",
       "  <tbody>\n",
       "    <tr>\n",
       "      <th>0</th>\n",
       "      <td>50001</td>\n",
       "      <td>1</td>\n",
       "      <td>4.0</td>\n",
       "      <td>Phone</td>\n",
       "      <td>3</td>\n",
       "      <td>6.0</td>\n",
       "      <td>Debit Card</td>\n",
       "      <td>Female</td>\n",
       "      <td>3.000000</td>\n",
       "      <td>3</td>\n",
       "      <td>...</td>\n",
       "      <td>11.0</td>\n",
       "      <td>1.0</td>\n",
       "      <td>1.0</td>\n",
       "      <td>5.0</td>\n",
       "      <td>159.93</td>\n",
       "      <td>0</td>\n",
       "      <td>0</td>\n",
       "      <td>1</td>\n",
       "      <td>0</td>\n",
       "      <td>1</td>\n",
       "    </tr>\n",
       "    <tr>\n",
       "      <th>1</th>\n",
       "      <td>50002</td>\n",
       "      <td>1</td>\n",
       "      <td>9.0</td>\n",
       "      <td>Phone</td>\n",
       "      <td>1</td>\n",
       "      <td>8.0</td>\n",
       "      <td>UPI</td>\n",
       "      <td>Male</td>\n",
       "      <td>3.000000</td>\n",
       "      <td>4</td>\n",
       "      <td>...</td>\n",
       "      <td>15.0</td>\n",
       "      <td>0.0</td>\n",
       "      <td>1.0</td>\n",
       "      <td>0.0</td>\n",
       "      <td>120.90</td>\n",
       "      <td>1</td>\n",
       "      <td>0</td>\n",
       "      <td>1</td>\n",
       "      <td>0</td>\n",
       "      <td>1</td>\n",
       "    </tr>\n",
       "    <tr>\n",
       "      <th>2</th>\n",
       "      <td>50003</td>\n",
       "      <td>1</td>\n",
       "      <td>9.0</td>\n",
       "      <td>Phone</td>\n",
       "      <td>1</td>\n",
       "      <td>30.0</td>\n",
       "      <td>Debit Card</td>\n",
       "      <td>Male</td>\n",
       "      <td>2.000000</td>\n",
       "      <td>4</td>\n",
       "      <td>...</td>\n",
       "      <td>14.0</td>\n",
       "      <td>0.0</td>\n",
       "      <td>1.0</td>\n",
       "      <td>3.0</td>\n",
       "      <td>120.28</td>\n",
       "      <td>1</td>\n",
       "      <td>0</td>\n",
       "      <td>1</td>\n",
       "      <td>0</td>\n",
       "      <td>1</td>\n",
       "    </tr>\n",
       "    <tr>\n",
       "      <th>3</th>\n",
       "      <td>50004</td>\n",
       "      <td>1</td>\n",
       "      <td>0.0</td>\n",
       "      <td>Phone</td>\n",
       "      <td>3</td>\n",
       "      <td>15.0</td>\n",
       "      <td>Debit Card</td>\n",
       "      <td>Male</td>\n",
       "      <td>2.000000</td>\n",
       "      <td>4</td>\n",
       "      <td>...</td>\n",
       "      <td>23.0</td>\n",
       "      <td>0.0</td>\n",
       "      <td>1.0</td>\n",
       "      <td>3.0</td>\n",
       "      <td>134.07</td>\n",
       "      <td>1</td>\n",
       "      <td>0</td>\n",
       "      <td>1</td>\n",
       "      <td>0</td>\n",
       "      <td>1</td>\n",
       "    </tr>\n",
       "    <tr>\n",
       "      <th>4</th>\n",
       "      <td>50005</td>\n",
       "      <td>1</td>\n",
       "      <td>0.0</td>\n",
       "      <td>Phone</td>\n",
       "      <td>1</td>\n",
       "      <td>12.0</td>\n",
       "      <td>CC</td>\n",
       "      <td>Male</td>\n",
       "      <td>2.931535</td>\n",
       "      <td>3</td>\n",
       "      <td>...</td>\n",
       "      <td>11.0</td>\n",
       "      <td>1.0</td>\n",
       "      <td>1.0</td>\n",
       "      <td>3.0</td>\n",
       "      <td>129.60</td>\n",
       "      <td>1</td>\n",
       "      <td>0</td>\n",
       "      <td>1</td>\n",
       "      <td>0</td>\n",
       "      <td>1</td>\n",
       "    </tr>\n",
       "    <tr>\n",
       "      <th>...</th>\n",
       "      <td>...</td>\n",
       "      <td>...</td>\n",
       "      <td>...</td>\n",
       "      <td>...</td>\n",
       "      <td>...</td>\n",
       "      <td>...</td>\n",
       "      <td>...</td>\n",
       "      <td>...</td>\n",
       "      <td>...</td>\n",
       "      <td>...</td>\n",
       "      <td>...</td>\n",
       "      <td>...</td>\n",
       "      <td>...</td>\n",
       "      <td>...</td>\n",
       "      <td>...</td>\n",
       "      <td>...</td>\n",
       "      <td>...</td>\n",
       "      <td>...</td>\n",
       "      <td>...</td>\n",
       "      <td>...</td>\n",
       "      <td>...</td>\n",
       "    </tr>\n",
       "    <tr>\n",
       "      <th>5625</th>\n",
       "      <td>55626</td>\n",
       "      <td>0</td>\n",
       "      <td>10.0</td>\n",
       "      <td>Computer</td>\n",
       "      <td>1</td>\n",
       "      <td>30.0</td>\n",
       "      <td>Credit Card</td>\n",
       "      <td>Male</td>\n",
       "      <td>3.000000</td>\n",
       "      <td>2</td>\n",
       "      <td>...</td>\n",
       "      <td>18.0</td>\n",
       "      <td>1.0</td>\n",
       "      <td>2.0</td>\n",
       "      <td>4.0</td>\n",
       "      <td>150.71</td>\n",
       "      <td>1</td>\n",
       "      <td>1</td>\n",
       "      <td>0</td>\n",
       "      <td>0</td>\n",
       "      <td>0</td>\n",
       "    </tr>\n",
       "    <tr>\n",
       "      <th>5626</th>\n",
       "      <td>55627</td>\n",
       "      <td>0</td>\n",
       "      <td>13.0</td>\n",
       "      <td>Phone</td>\n",
       "      <td>1</td>\n",
       "      <td>13.0</td>\n",
       "      <td>Credit Card</td>\n",
       "      <td>Male</td>\n",
       "      <td>3.000000</td>\n",
       "      <td>5</td>\n",
       "      <td>...</td>\n",
       "      <td>16.0</td>\n",
       "      <td>1.0</td>\n",
       "      <td>2.0</td>\n",
       "      <td>3.0</td>\n",
       "      <td>224.91</td>\n",
       "      <td>1</td>\n",
       "      <td>1</td>\n",
       "      <td>0</td>\n",
       "      <td>0</td>\n",
       "      <td>1</td>\n",
       "    </tr>\n",
       "    <tr>\n",
       "      <th>5627</th>\n",
       "      <td>55628</td>\n",
       "      <td>0</td>\n",
       "      <td>1.0</td>\n",
       "      <td>Phone</td>\n",
       "      <td>1</td>\n",
       "      <td>11.0</td>\n",
       "      <td>Debit Card</td>\n",
       "      <td>Male</td>\n",
       "      <td>3.000000</td>\n",
       "      <td>2</td>\n",
       "      <td>...</td>\n",
       "      <td>21.0</td>\n",
       "      <td>1.0</td>\n",
       "      <td>2.0</td>\n",
       "      <td>4.0</td>\n",
       "      <td>186.42</td>\n",
       "      <td>1</td>\n",
       "      <td>1</td>\n",
       "      <td>0</td>\n",
       "      <td>0</td>\n",
       "      <td>1</td>\n",
       "    </tr>\n",
       "    <tr>\n",
       "      <th>5628</th>\n",
       "      <td>55629</td>\n",
       "      <td>0</td>\n",
       "      <td>23.0</td>\n",
       "      <td>Computer</td>\n",
       "      <td>3</td>\n",
       "      <td>9.0</td>\n",
       "      <td>Credit Card</td>\n",
       "      <td>Male</td>\n",
       "      <td>4.000000</td>\n",
       "      <td>5</td>\n",
       "      <td>...</td>\n",
       "      <td>15.0</td>\n",
       "      <td>2.0</td>\n",
       "      <td>2.0</td>\n",
       "      <td>9.0</td>\n",
       "      <td>178.90</td>\n",
       "      <td>1</td>\n",
       "      <td>1</td>\n",
       "      <td>0</td>\n",
       "      <td>0</td>\n",
       "      <td>0</td>\n",
       "    </tr>\n",
       "    <tr>\n",
       "      <th>5629</th>\n",
       "      <td>55630</td>\n",
       "      <td>0</td>\n",
       "      <td>8.0</td>\n",
       "      <td>Phone</td>\n",
       "      <td>1</td>\n",
       "      <td>15.0</td>\n",
       "      <td>Credit Card</td>\n",
       "      <td>Male</td>\n",
       "      <td>3.000000</td>\n",
       "      <td>2</td>\n",
       "      <td>...</td>\n",
       "      <td>13.0</td>\n",
       "      <td>2.0</td>\n",
       "      <td>2.0</td>\n",
       "      <td>3.0</td>\n",
       "      <td>169.04</td>\n",
       "      <td>1</td>\n",
       "      <td>1</td>\n",
       "      <td>0</td>\n",
       "      <td>0</td>\n",
       "      <td>1</td>\n",
       "    </tr>\n",
       "  </tbody>\n",
       "</table>\n",
       "<p>5630 rows × 25 columns</p>\n",
       "</div>"
      ],
      "text/plain": [
       "      CustomerID  Churn  Tenure PreferredLoginDevice  CityTier  \\\n",
       "0          50001      1     4.0                Phone         3   \n",
       "1          50002      1     9.0                Phone         1   \n",
       "2          50003      1     9.0                Phone         1   \n",
       "3          50004      1     0.0                Phone         3   \n",
       "4          50005      1     0.0                Phone         1   \n",
       "...          ...    ...     ...                  ...       ...   \n",
       "5625       55626      0    10.0             Computer         1   \n",
       "5626       55627      0    13.0                Phone         1   \n",
       "5627       55628      0     1.0                Phone         1   \n",
       "5628       55629      0    23.0             Computer         3   \n",
       "5629       55630      0     8.0                Phone         1   \n",
       "\n",
       "      WarehouseToHome PreferredPaymentMode  Gender  HourSpendOnApp  \\\n",
       "0                 6.0           Debit Card  Female        3.000000   \n",
       "1                 8.0                  UPI    Male        3.000000   \n",
       "2                30.0           Debit Card    Male        2.000000   \n",
       "3                15.0           Debit Card    Male        2.000000   \n",
       "4                12.0                   CC    Male        2.931535   \n",
       "...               ...                  ...     ...             ...   \n",
       "5625             30.0          Credit Card    Male        3.000000   \n",
       "5626             13.0          Credit Card    Male        3.000000   \n",
       "5627             11.0           Debit Card    Male        3.000000   \n",
       "5628              9.0          Credit Card    Male        4.000000   \n",
       "5629             15.0          Credit Card    Male        3.000000   \n",
       "\n",
       "      NumberOfDeviceRegistered  ... OrderAmountHikeFromlastYear  CouponUsed  \\\n",
       "0                            3  ...                        11.0         1.0   \n",
       "1                            4  ...                        15.0         0.0   \n",
       "2                            4  ...                        14.0         0.0   \n",
       "3                            4  ...                        23.0         0.0   \n",
       "4                            3  ...                        11.0         1.0   \n",
       "...                        ...  ...                         ...         ...   \n",
       "5625                         2  ...                        18.0         1.0   \n",
       "5626                         5  ...                        16.0         1.0   \n",
       "5627                         2  ...                        21.0         1.0   \n",
       "5628                         5  ...                        15.0         2.0   \n",
       "5629                         2  ...                        13.0         2.0   \n",
       "\n",
       "     OrderCount  DaySinceLastOrder  CashbackAmount  Gender_boolean  \\\n",
       "0           1.0                5.0          159.93               0   \n",
       "1           1.0                0.0          120.90               1   \n",
       "2           1.0                3.0          120.28               1   \n",
       "3           1.0                3.0          134.07               1   \n",
       "4           1.0                3.0          129.60               1   \n",
       "...         ...                ...             ...             ...   \n",
       "5625        2.0                4.0          150.71               1   \n",
       "5626        2.0                3.0          224.91               1   \n",
       "5627        2.0                4.0          186.42               1   \n",
       "5628        2.0                9.0          178.90               1   \n",
       "5629        2.0                3.0          169.04               1   \n",
       "\n",
       "      MS_Married  MS_Single  MS_Divorced  PreferredLoginDevice_boolean  \n",
       "0              0          1            0                             1  \n",
       "1              0          1            0                             1  \n",
       "2              0          1            0                             1  \n",
       "3              0          1            0                             1  \n",
       "4              0          1            0                             1  \n",
       "...          ...        ...          ...                           ...  \n",
       "5625           1          0            0                             0  \n",
       "5626           1          0            0                             1  \n",
       "5627           1          0            0                             1  \n",
       "5628           1          0            0                             0  \n",
       "5629           1          0            0                             1  \n",
       "\n",
       "[5630 rows x 25 columns]"
      ]
     },
     "execution_count": 72,
     "metadata": {},
     "output_type": "execute_result"
    }
   ],
   "source": [
    "ecomerce_df"
   ]
  },
  {
   "cell_type": "code",
   "execution_count": null,
   "id": "e626581e",
   "metadata": {},
   "outputs": [
    {
     "name": "stdout",
     "output_type": "stream",
     "text": [
      "-2.127066076590507 0.03345796377596109\n"
     ]
    }
   ],
   "source": [
    "x_churn=ecomerce_df[ecomerce_df[\"Churn\"] == 1][\"OrderCount\"]\n",
    "x_ord=ecomerce_df[ecomerce_df[\"Churn\"] == 0][\"OrderCount\"]\n",
    "t_statistcs,p_value=stats.ttest_ind(x_churn,x_ord)\n",
    "print(t_statistcs,p_value) #p_value < 0.05  "
   ]
  },
  {
   "cell_type": "code",
   "execution_count": null,
   "id": "d5e95090",
   "metadata": {},
   "outputs": [
    {
     "name": "stdout",
     "output_type": "stream",
     "text": [
      "-11.838127578080636 5.920403597328295e-32\n"
     ]
    }
   ],
   "source": [
    "x_churn=ecomerce_df[ecomerce_df[\"Churn\"] == 1][\"DaySinceLastOrder\"]\n",
    "x_ord=ecomerce_df[ecomerce_df[\"Churn\"] == 0][\"DaySinceLastOrder\"]\n",
    "t_statistcs,p_value=stats.ttest_ind(x_churn,x_ord)\n",
    "print(t_statistcs,p_value) #p_value < 0.05   "
   ]
  },
  {
   "cell_type": "code",
   "execution_count": null,
   "id": "68c4cdd5",
   "metadata": {},
   "outputs": [
    {
     "name": "stdout",
     "output_type": "stream",
     "text": [
      "-11.701754038593704 2.867709304816521e-31\n"
     ]
    }
   ],
   "source": [
    "x_churn=ecomerce_df[ecomerce_df[\"Churn\"] == 1][\"CashbackAmount\"]\n",
    "x_ord=ecomerce_df[ecomerce_df[\"Churn\"] == 0][\"CashbackAmount\"]\n",
    "t_statistcs,p_value=stats.ttest_ind(x_churn,x_ord)\n",
    "print(t_statistcs,p_value) #p_value < 0.05   "
   ]
  },
  {
   "cell_type": "code",
   "execution_count": null,
   "id": "d3ad8786",
   "metadata": {},
   "outputs": [
    {
     "data": {
      "text/plain": [
       "Index(['CustomerID', 'Churn', 'Tenure', 'PreferredLoginDevice', 'CityTier',\n",
       "       'WarehouseToHome', 'PreferredPaymentMode', 'Gender', 'HourSpendOnApp',\n",
       "       'NumberOfDeviceRegistered', 'PreferedOrderCat', 'SatisfactionScore',\n",
       "       'MaritalStatus', 'NumberOfAddress', 'Complain',\n",
       "       'OrderAmountHikeFromlastYear', 'CouponUsed', 'OrderCount',\n",
       "       'DaySinceLastOrder', 'CashbackAmount', 'Gender_boolean', 'MS_Married',\n",
       "       'MS_Single', 'MS_Divorced', 'PreferredLoginDevice_boolean'],\n",
       "      dtype='object')"
      ]
     },
     "execution_count": 77,
     "metadata": {},
     "output_type": "execute_result"
    }
   ],
   "source": [
    "ecomerce_df.columns"
   ]
  },
  {
   "cell_type": "code",
   "execution_count": null,
   "id": "ac7b2514",
   "metadata": {},
   "outputs": [
    {
     "data": {
      "text/html": [
       "<div>\n",
       "<style scoped>\n",
       "    .dataframe tbody tr th:only-of-type {\n",
       "        vertical-align: middle;\n",
       "    }\n",
       "\n",
       "    .dataframe tbody tr th {\n",
       "        vertical-align: top;\n",
       "    }\n",
       "\n",
       "    .dataframe thead th {\n",
       "        text-align: right;\n",
       "    }\n",
       "</style>\n",
       "<table border=\"1\" class=\"dataframe\">\n",
       "  <thead>\n",
       "    <tr style=\"text-align: right;\">\n",
       "      <th></th>\n",
       "      <th>PreferedOrderCat</th>\n",
       "      <th>SatisfactionScore</th>\n",
       "      <th>MaritalStatus</th>\n",
       "      <th>NumberOfAddress</th>\n",
       "      <th>Complain</th>\n",
       "    </tr>\n",
       "  </thead>\n",
       "  <tbody>\n",
       "    <tr>\n",
       "      <th>0</th>\n",
       "      <td>Laptop &amp; Accessory</td>\n",
       "      <td>2</td>\n",
       "      <td>Single</td>\n",
       "      <td>9</td>\n",
       "      <td>1</td>\n",
       "    </tr>\n",
       "    <tr>\n",
       "      <th>1</th>\n",
       "      <td>Mobile</td>\n",
       "      <td>3</td>\n",
       "      <td>Single</td>\n",
       "      <td>7</td>\n",
       "      <td>1</td>\n",
       "    </tr>\n",
       "    <tr>\n",
       "      <th>2</th>\n",
       "      <td>Mobile</td>\n",
       "      <td>3</td>\n",
       "      <td>Single</td>\n",
       "      <td>6</td>\n",
       "      <td>1</td>\n",
       "    </tr>\n",
       "    <tr>\n",
       "      <th>3</th>\n",
       "      <td>Laptop &amp; Accessory</td>\n",
       "      <td>5</td>\n",
       "      <td>Single</td>\n",
       "      <td>8</td>\n",
       "      <td>0</td>\n",
       "    </tr>\n",
       "    <tr>\n",
       "      <th>4</th>\n",
       "      <td>Mobile</td>\n",
       "      <td>5</td>\n",
       "      <td>Single</td>\n",
       "      <td>3</td>\n",
       "      <td>0</td>\n",
       "    </tr>\n",
       "    <tr>\n",
       "      <th>...</th>\n",
       "      <td>...</td>\n",
       "      <td>...</td>\n",
       "      <td>...</td>\n",
       "      <td>...</td>\n",
       "      <td>...</td>\n",
       "    </tr>\n",
       "    <tr>\n",
       "      <th>5625</th>\n",
       "      <td>Laptop &amp; Accessory</td>\n",
       "      <td>1</td>\n",
       "      <td>Married</td>\n",
       "      <td>6</td>\n",
       "      <td>0</td>\n",
       "    </tr>\n",
       "    <tr>\n",
       "      <th>5626</th>\n",
       "      <td>Fashion</td>\n",
       "      <td>5</td>\n",
       "      <td>Married</td>\n",
       "      <td>6</td>\n",
       "      <td>0</td>\n",
       "    </tr>\n",
       "    <tr>\n",
       "      <th>5627</th>\n",
       "      <td>Laptop &amp; Accessory</td>\n",
       "      <td>4</td>\n",
       "      <td>Married</td>\n",
       "      <td>3</td>\n",
       "      <td>1</td>\n",
       "    </tr>\n",
       "    <tr>\n",
       "      <th>5628</th>\n",
       "      <td>Laptop &amp; Accessory</td>\n",
       "      <td>4</td>\n",
       "      <td>Married</td>\n",
       "      <td>4</td>\n",
       "      <td>0</td>\n",
       "    </tr>\n",
       "    <tr>\n",
       "      <th>5629</th>\n",
       "      <td>Laptop &amp; Accessory</td>\n",
       "      <td>3</td>\n",
       "      <td>Married</td>\n",
       "      <td>4</td>\n",
       "      <td>0</td>\n",
       "    </tr>\n",
       "  </tbody>\n",
       "</table>\n",
       "<p>5630 rows × 5 columns</p>\n",
       "</div>"
      ],
      "text/plain": [
       "        PreferedOrderCat  SatisfactionScore MaritalStatus  NumberOfAddress  \\\n",
       "0     Laptop & Accessory                  2        Single                9   \n",
       "1                 Mobile                  3        Single                7   \n",
       "2                 Mobile                  3        Single                6   \n",
       "3     Laptop & Accessory                  5        Single                8   \n",
       "4                 Mobile                  5        Single                3   \n",
       "...                  ...                ...           ...              ...   \n",
       "5625  Laptop & Accessory                  1       Married                6   \n",
       "5626             Fashion                  5       Married                6   \n",
       "5627  Laptop & Accessory                  4       Married                3   \n",
       "5628  Laptop & Accessory                  4       Married                4   \n",
       "5629  Laptop & Accessory                  3       Married                4   \n",
       "\n",
       "      Complain  \n",
       "0            1  \n",
       "1            1  \n",
       "2            1  \n",
       "3            0  \n",
       "4            0  \n",
       "...        ...  \n",
       "5625         0  \n",
       "5626         0  \n",
       "5627         1  \n",
       "5628         0  \n",
       "5629         0  \n",
       "\n",
       "[5630 rows x 5 columns]"
      ]
     },
     "execution_count": 80,
     "metadata": {},
     "output_type": "execute_result"
    }
   ],
   "source": [
    "ecomerce_df[['PreferedOrderCat', 'SatisfactionScore',\n",
    "       'MaritalStatus', 'NumberOfAddress', 'Complain']]"
   ]
  },
  {
   "cell_type": "code",
   "execution_count": null,
   "id": "68b09aee",
   "metadata": {},
   "outputs": [
    {
     "name": "stdout",
     "output_type": "stream",
     "text": [
      "288.63939355672443 2.7708325346337454e-60\n"
     ]
    }
   ],
   "source": [
    "congtingency=pd.crosstab(ecomerce_df[\"Churn\"],ecomerce_df[\"PreferedOrderCat\"])\n",
    "chi_2,p_value,dof,expected=stats.chi2_contingency(congtingency)\n",
    "print(chi_2,p_value)#p_value < 0.05"
   ]
  },
  {
   "cell_type": "code",
   "execution_count": null,
   "id": "288ad53d",
   "metadata": {},
   "outputs": [
    {
     "name": "stdout",
     "output_type": "stream",
     "text": [
      "7.957588346935353 2.105157407388599e-15\n"
     ]
    }
   ],
   "source": [
    "x_churn=ecomerce_df[ecomerce_df[\"Churn\"] == 1][\"SatisfactionScore\"]\n",
    "x_ord=ecomerce_df[ecomerce_df[\"Churn\"] == 0][\"SatisfactionScore\"]\n",
    "t_statistcs,p_value=stats.ttest_ind(x_churn,x_ord)\n",
    "print(t_statistcs,p_value) #p_value < 0.05   "
   ]
  },
  {
   "cell_type": "code",
   "execution_count": null,
   "id": "1f11860c",
   "metadata": {},
   "outputs": [
    {
     "name": "stdout",
     "output_type": "stream",
     "text": [
      "188.6710396770566 1.073011277910542e-41\n"
     ]
    }
   ],
   "source": [
    "congtingency=pd.crosstab(ecomerce_df[\"Churn\"],ecomerce_df[\"MaritalStatus\"])\n",
    "chi_2,p_value,dof,expected=stats.chi2_contingency(congtingency)\n",
    "print(chi_2,p_value)#p_value < 0.05"
   ]
  },
  {
   "cell_type": "code",
   "execution_count": null,
   "id": "1ad2311f",
   "metadata": {},
   "outputs": [
    {
     "name": "stdout",
     "output_type": "stream",
     "text": [
      "3.298889512991889 0.0009767132246168275\n"
     ]
    }
   ],
   "source": [
    "x_churn=ecomerce_df[ecomerce_df[\"Churn\"] == 1][\"NumberOfAddress\"]\n",
    "x_ord=ecomerce_df[ecomerce_df[\"Churn\"] == 0][\"NumberOfAddress\"]\n",
    "t_statistcs,p_value=stats.ttest_ind(x_churn,x_ord)\n",
    "print(t_statistcs,p_value) #p_value < 0.05   "
   ]
  },
  {
   "cell_type": "code",
   "execution_count": null,
   "id": "3ab5eaf4",
   "metadata": {},
   "outputs": [
    {
     "name": "stdout",
     "output_type": "stream",
     "text": [
      "350.92545525927073 2.6644609654641377e-78\n"
     ]
    }
   ],
   "source": [
    "congtingency=pd.crosstab(ecomerce_df[\"Churn\"],ecomerce_df[\"Complain\"])\n",
    "chi_2,p_value,dof,expected=stats.chi2_contingency(congtingency)\n",
    "print(chi_2,p_value)#p_value < 0.05"
   ]
  }
 ],
 "metadata": {
  "kernelspec": {
   "display_name": "Python 3",
   "language": "python",
   "name": "python3"
  },
  "language_info": {
   "codemirror_mode": {
    "name": "ipython",
    "version": 3
   },
   "file_extension": ".py",
   "mimetype": "text/x-python",
   "name": "python",
   "nbconvert_exporter": "python",
   "pygments_lexer": "ipython3",
   "version": "3.12.1"
  }
 },
 "nbformat": 4,
 "nbformat_minor": 5
}
